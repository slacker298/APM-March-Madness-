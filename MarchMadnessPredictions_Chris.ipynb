{
 "cells": [
  {
   "cell_type": "code",
   "execution_count": 68,
   "metadata": {},
   "outputs": [],
   "source": [
    "import patsy\n",
    "from patsy import dmatrices\n",
    "import pandas as pd\n",
    "from sklearn.linear_model import LogisticRegression\n",
    "from sklearn import metrics\n",
    "import matplotlib.pyplot as plt; plt.rcdefaults()\n",
    "import numpy as np\n",
    "from sklearn.model_selection import GridSearchCV\n",
    "import copy\n",
    "from sklearn.ensemble import RandomForestClassifier\n",
    "from sklearn.linear_model import LinearRegression\n",
    "import sklearn as sk\n",
    "from sklearn.svm import SVC\n",
    "from xgboost import XGBClassifier\n",
    "from sklearn.ensemble import BaggingClassifier"
   ]
  },
  {
   "cell_type": "code",
   "execution_count": 2,
   "metadata": {},
   "outputs": [
    {
     "data": {
      "text/html": [
       "<div>\n",
       "<style>\n",
       "    .dataframe thead tr:only-child th {\n",
       "        text-align: right;\n",
       "    }\n",
       "\n",
       "    .dataframe thead th {\n",
       "        text-align: left;\n",
       "    }\n",
       "\n",
       "    .dataframe tbody tr th {\n",
       "        vertical-align: top;\n",
       "    }\n",
       "</style>\n",
       "<table border=\"1\" class=\"dataframe\">\n",
       "  <thead>\n",
       "    <tr style=\"text-align: right;\">\n",
       "      <th></th>\n",
       "      <th>Season</th>\n",
       "      <th>id</th>\n",
       "      <th>matchid</th>\n",
       "      <th>Daynum</th>\n",
       "      <th>team</th>\n",
       "      <th>Result</th>\n",
       "      <th>score</th>\n",
       "      <th>oppscore</th>\n",
       "      <th>loc</th>\n",
       "      <th>Numot</th>\n",
       "      <th>...</th>\n",
       "      <th>ftm</th>\n",
       "      <th>fta</th>\n",
       "      <th>or</th>\n",
       "      <th>dr</th>\n",
       "      <th>ast</th>\n",
       "      <th>to</th>\n",
       "      <th>stl</th>\n",
       "      <th>blk</th>\n",
       "      <th>pf</th>\n",
       "      <th>oppdr</th>\n",
       "    </tr>\n",
       "  </thead>\n",
       "  <tbody>\n",
       "    <tr>\n",
       "      <th>0</th>\n",
       "      <td>2003</td>\n",
       "      <td>1</td>\n",
       "      <td>2003-1</td>\n",
       "      <td>10</td>\n",
       "      <td>1104</td>\n",
       "      <td>1</td>\n",
       "      <td>68</td>\n",
       "      <td>62</td>\n",
       "      <td>N</td>\n",
       "      <td>0</td>\n",
       "      <td>...</td>\n",
       "      <td>11</td>\n",
       "      <td>18</td>\n",
       "      <td>14</td>\n",
       "      <td>24</td>\n",
       "      <td>13</td>\n",
       "      <td>23</td>\n",
       "      <td>7</td>\n",
       "      <td>1</td>\n",
       "      <td>22</td>\n",
       "      <td>22</td>\n",
       "    </tr>\n",
       "    <tr>\n",
       "      <th>1</th>\n",
       "      <td>2003</td>\n",
       "      <td>2</td>\n",
       "      <td>2003-2</td>\n",
       "      <td>10</td>\n",
       "      <td>1272</td>\n",
       "      <td>1</td>\n",
       "      <td>70</td>\n",
       "      <td>63</td>\n",
       "      <td>N</td>\n",
       "      <td>0</td>\n",
       "      <td>...</td>\n",
       "      <td>10</td>\n",
       "      <td>19</td>\n",
       "      <td>15</td>\n",
       "      <td>28</td>\n",
       "      <td>16</td>\n",
       "      <td>13</td>\n",
       "      <td>4</td>\n",
       "      <td>4</td>\n",
       "      <td>18</td>\n",
       "      <td>25</td>\n",
       "    </tr>\n",
       "    <tr>\n",
       "      <th>2</th>\n",
       "      <td>2003</td>\n",
       "      <td>3</td>\n",
       "      <td>2003-3</td>\n",
       "      <td>11</td>\n",
       "      <td>1266</td>\n",
       "      <td>1</td>\n",
       "      <td>73</td>\n",
       "      <td>61</td>\n",
       "      <td>N</td>\n",
       "      <td>0</td>\n",
       "      <td>...</td>\n",
       "      <td>17</td>\n",
       "      <td>29</td>\n",
       "      <td>17</td>\n",
       "      <td>26</td>\n",
       "      <td>15</td>\n",
       "      <td>10</td>\n",
       "      <td>5</td>\n",
       "      <td>2</td>\n",
       "      <td>25</td>\n",
       "      <td>22</td>\n",
       "    </tr>\n",
       "    <tr>\n",
       "      <th>3</th>\n",
       "      <td>2003</td>\n",
       "      <td>4</td>\n",
       "      <td>2003-4</td>\n",
       "      <td>11</td>\n",
       "      <td>1296</td>\n",
       "      <td>1</td>\n",
       "      <td>56</td>\n",
       "      <td>50</td>\n",
       "      <td>N</td>\n",
       "      <td>0</td>\n",
       "      <td>...</td>\n",
       "      <td>17</td>\n",
       "      <td>31</td>\n",
       "      <td>6</td>\n",
       "      <td>19</td>\n",
       "      <td>11</td>\n",
       "      <td>12</td>\n",
       "      <td>14</td>\n",
       "      <td>2</td>\n",
       "      <td>18</td>\n",
       "      <td>20</td>\n",
       "    </tr>\n",
       "    <tr>\n",
       "      <th>4</th>\n",
       "      <td>2003</td>\n",
       "      <td>5</td>\n",
       "      <td>2003-5</td>\n",
       "      <td>11</td>\n",
       "      <td>1400</td>\n",
       "      <td>1</td>\n",
       "      <td>77</td>\n",
       "      <td>71</td>\n",
       "      <td>N</td>\n",
       "      <td>0</td>\n",
       "      <td>...</td>\n",
       "      <td>11</td>\n",
       "      <td>13</td>\n",
       "      <td>17</td>\n",
       "      <td>22</td>\n",
       "      <td>12</td>\n",
       "      <td>14</td>\n",
       "      <td>4</td>\n",
       "      <td>4</td>\n",
       "      <td>20</td>\n",
       "      <td>15</td>\n",
       "    </tr>\n",
       "  </tbody>\n",
       "</table>\n",
       "<p>5 rows × 24 columns</p>\n",
       "</div>"
      ],
      "text/plain": [
       "   Season  id matchid  Daynum  team  Result  score  oppscore loc  Numot  \\\n",
       "0    2003   1  2003-1      10  1104       1     68        62   N      0   \n",
       "1    2003   2  2003-2      10  1272       1     70        63   N      0   \n",
       "2    2003   3  2003-3      11  1266       1     73        61   N      0   \n",
       "3    2003   4  2003-4      11  1296       1     56        50   N      0   \n",
       "4    2003   5  2003-5      11  1400       1     77        71   N      0   \n",
       "\n",
       "   ...    ftm  fta  or  dr  ast  to  stl  blk  pf  oppdr  \n",
       "0  ...     11   18  14  24   13  23    7    1  22     22  \n",
       "1  ...     10   19  15  28   16  13    4    4  18     25  \n",
       "2  ...     17   29  17  26   15  10    5    2  25     22  \n",
       "3  ...     17   31   6  19   11  12   14    2  18     20  \n",
       "4  ...     11   13  17  22   12  14    4    4  20     15  \n",
       "\n",
       "[5 rows x 24 columns]"
      ]
     },
     "execution_count": 2,
     "metadata": {},
     "output_type": "execute_result"
    }
   ],
   "source": [
    "elo = pd.read_csv('regseason_elo.csv')\n",
    "elo['team'] = elo['Team']\n",
    "regdf = pd.read_csv(\"RegSeasonMod.csv\")\n",
    "regdf.head()"
   ]
  },
  {
   "cell_type": "code",
   "execution_count": 3,
   "metadata": {
    "collapsed": true
   },
   "outputs": [],
   "source": [
    "poss = pd.DataFrame(pd.pivot_table(regdf,values=('fga','or','to','fta'),index=('matchid'),aggfunc = sum)).reset_index()"
   ]
  },
  {
   "cell_type": "code",
   "execution_count": 4,
   "metadata": {
    "collapsed": true
   },
   "outputs": [],
   "source": [
    "# possesions\n",
    "poss['poss'] = 0.96*(poss['fga']-poss['or']-poss['to']+(0.475*poss['fta']))"
   ]
  },
  {
   "cell_type": "code",
   "execution_count": 5,
   "metadata": {},
   "outputs": [
    {
     "data": {
      "text/html": [
       "<div>\n",
       "<style>\n",
       "    .dataframe thead tr:only-child th {\n",
       "        text-align: right;\n",
       "    }\n",
       "\n",
       "    .dataframe thead th {\n",
       "        text-align: left;\n",
       "    }\n",
       "\n",
       "    .dataframe tbody tr th {\n",
       "        vertical-align: top;\n",
       "    }\n",
       "</style>\n",
       "<table border=\"1\" class=\"dataframe\">\n",
       "  <thead>\n",
       "    <tr style=\"text-align: right;\">\n",
       "      <th></th>\n",
       "      <th>poss</th>\n",
       "    </tr>\n",
       "    <tr>\n",
       "      <th>matchid</th>\n",
       "      <th></th>\n",
       "    </tr>\n",
       "  </thead>\n",
       "  <tbody>\n",
       "    <tr>\n",
       "      <th>2003-1</th>\n",
       "      <td>62.400</td>\n",
       "    </tr>\n",
       "    <tr>\n",
       "      <th>2003-10</th>\n",
       "      <td>83.256</td>\n",
       "    </tr>\n",
       "    <tr>\n",
       "      <th>2003-100</th>\n",
       "      <td>71.424</td>\n",
       "    </tr>\n",
       "    <tr>\n",
       "      <th>2003-1000</th>\n",
       "      <td>74.400</td>\n",
       "    </tr>\n",
       "    <tr>\n",
       "      <th>2003-1001</th>\n",
       "      <td>69.216</td>\n",
       "    </tr>\n",
       "  </tbody>\n",
       "</table>\n",
       "</div>"
      ],
      "text/plain": [
       "             poss\n",
       "matchid          \n",
       "2003-1     62.400\n",
       "2003-10    83.256\n",
       "2003-100   71.424\n",
       "2003-1000  74.400\n",
       "2003-1001  69.216"
      ]
     },
     "execution_count": 5,
     "metadata": {},
     "output_type": "execute_result"
    }
   ],
   "source": [
    "possessions = poss[['matchid','poss']].set_index('matchid')\n",
    "possessions[:5]"
   ]
  },
  {
   "cell_type": "code",
   "execution_count": 6,
   "metadata": {},
   "outputs": [
    {
     "data": {
      "text/html": [
       "<div>\n",
       "<style>\n",
       "    .dataframe thead tr:only-child th {\n",
       "        text-align: right;\n",
       "    }\n",
       "\n",
       "    .dataframe thead th {\n",
       "        text-align: left;\n",
       "    }\n",
       "\n",
       "    .dataframe tbody tr th {\n",
       "        vertical-align: top;\n",
       "    }\n",
       "</style>\n",
       "<table border=\"1\" class=\"dataframe\">\n",
       "  <thead>\n",
       "    <tr style=\"text-align: right;\">\n",
       "      <th></th>\n",
       "      <th>Season</th>\n",
       "      <th>id</th>\n",
       "      <th>matchid</th>\n",
       "      <th>Daynum</th>\n",
       "      <th>team</th>\n",
       "      <th>Result</th>\n",
       "      <th>score</th>\n",
       "      <th>oppscore</th>\n",
       "      <th>loc</th>\n",
       "      <th>Numot</th>\n",
       "      <th>...</th>\n",
       "      <th>fta</th>\n",
       "      <th>or</th>\n",
       "      <th>dr</th>\n",
       "      <th>ast</th>\n",
       "      <th>to</th>\n",
       "      <th>stl</th>\n",
       "      <th>blk</th>\n",
       "      <th>pf</th>\n",
       "      <th>oppdr</th>\n",
       "      <th>poss</th>\n",
       "    </tr>\n",
       "  </thead>\n",
       "  <tbody>\n",
       "    <tr>\n",
       "      <th>0</th>\n",
       "      <td>2003</td>\n",
       "      <td>1</td>\n",
       "      <td>2003-1</td>\n",
       "      <td>10</td>\n",
       "      <td>1104</td>\n",
       "      <td>1</td>\n",
       "      <td>68</td>\n",
       "      <td>62</td>\n",
       "      <td>N</td>\n",
       "      <td>0</td>\n",
       "      <td>...</td>\n",
       "      <td>18</td>\n",
       "      <td>14</td>\n",
       "      <td>24</td>\n",
       "      <td>13</td>\n",
       "      <td>23</td>\n",
       "      <td>7</td>\n",
       "      <td>1</td>\n",
       "      <td>22</td>\n",
       "      <td>22</td>\n",
       "      <td>62.400</td>\n",
       "    </tr>\n",
       "    <tr>\n",
       "      <th>1</th>\n",
       "      <td>2003</td>\n",
       "      <td>2</td>\n",
       "      <td>2003-2</td>\n",
       "      <td>10</td>\n",
       "      <td>1272</td>\n",
       "      <td>1</td>\n",
       "      <td>70</td>\n",
       "      <td>63</td>\n",
       "      <td>N</td>\n",
       "      <td>0</td>\n",
       "      <td>...</td>\n",
       "      <td>19</td>\n",
       "      <td>15</td>\n",
       "      <td>28</td>\n",
       "      <td>16</td>\n",
       "      <td>13</td>\n",
       "      <td>4</td>\n",
       "      <td>4</td>\n",
       "      <td>18</td>\n",
       "      <td>25</td>\n",
       "      <td>84.024</td>\n",
       "    </tr>\n",
       "    <tr>\n",
       "      <th>2</th>\n",
       "      <td>2003</td>\n",
       "      <td>3</td>\n",
       "      <td>2003-3</td>\n",
       "      <td>11</td>\n",
       "      <td>1266</td>\n",
       "      <td>1</td>\n",
       "      <td>73</td>\n",
       "      <td>61</td>\n",
       "      <td>N</td>\n",
       "      <td>0</td>\n",
       "      <td>...</td>\n",
       "      <td>29</td>\n",
       "      <td>17</td>\n",
       "      <td>26</td>\n",
       "      <td>15</td>\n",
       "      <td>10</td>\n",
       "      <td>5</td>\n",
       "      <td>2</td>\n",
       "      <td>25</td>\n",
       "      <td>22</td>\n",
       "      <td>82.272</td>\n",
       "    </tr>\n",
       "    <tr>\n",
       "      <th>3</th>\n",
       "      <td>2003</td>\n",
       "      <td>4</td>\n",
       "      <td>2003-4</td>\n",
       "      <td>11</td>\n",
       "      <td>1296</td>\n",
       "      <td>1</td>\n",
       "      <td>56</td>\n",
       "      <td>50</td>\n",
       "      <td>N</td>\n",
       "      <td>0</td>\n",
       "      <td>...</td>\n",
       "      <td>31</td>\n",
       "      <td>6</td>\n",
       "      <td>19</td>\n",
       "      <td>11</td>\n",
       "      <td>12</td>\n",
       "      <td>14</td>\n",
       "      <td>2</td>\n",
       "      <td>18</td>\n",
       "      <td>20</td>\n",
       "      <td>52.656</td>\n",
       "    </tr>\n",
       "    <tr>\n",
       "      <th>4</th>\n",
       "      <td>2003</td>\n",
       "      <td>5</td>\n",
       "      <td>2003-5</td>\n",
       "      <td>11</td>\n",
       "      <td>1400</td>\n",
       "      <td>1</td>\n",
       "      <td>77</td>\n",
       "      <td>71</td>\n",
       "      <td>N</td>\n",
       "      <td>0</td>\n",
       "      <td>...</td>\n",
       "      <td>13</td>\n",
       "      <td>17</td>\n",
       "      <td>22</td>\n",
       "      <td>12</td>\n",
       "      <td>14</td>\n",
       "      <td>4</td>\n",
       "      <td>4</td>\n",
       "      <td>20</td>\n",
       "      <td>15</td>\n",
       "      <td>76.800</td>\n",
       "    </tr>\n",
       "  </tbody>\n",
       "</table>\n",
       "<p>5 rows × 25 columns</p>\n",
       "</div>"
      ],
      "text/plain": [
       "   Season  id matchid  Daynum  team  Result  score  oppscore loc  Numot  \\\n",
       "0    2003   1  2003-1      10  1104       1     68        62   N      0   \n",
       "1    2003   2  2003-2      10  1272       1     70        63   N      0   \n",
       "2    2003   3  2003-3      11  1266       1     73        61   N      0   \n",
       "3    2003   4  2003-4      11  1296       1     56        50   N      0   \n",
       "4    2003   5  2003-5      11  1400       1     77        71   N      0   \n",
       "\n",
       "    ...    fta  or  dr  ast  to  stl  blk  pf  oppdr    poss  \n",
       "0   ...     18  14  24   13  23    7    1  22     22  62.400  \n",
       "1   ...     19  15  28   16  13    4    4  18     25  84.024  \n",
       "2   ...     29  17  26   15  10    5    2  25     22  82.272  \n",
       "3   ...     31   6  19   11  12   14    2  18     20  52.656  \n",
       "4   ...     13  17  22   12  14    4    4  20     15  76.800  \n",
       "\n",
       "[5 rows x 25 columns]"
      ]
     },
     "execution_count": 6,
     "metadata": {},
     "output_type": "execute_result"
    }
   ],
   "source": [
    "regdf = regdf.join(possessions, on ='matchid',how='left',rsuffix = '_p')\n",
    "regdf[:5]"
   ]
  },
  {
   "cell_type": "code",
   "execution_count": 7,
   "metadata": {},
   "outputs": [
    {
     "data": {
      "text/plain": [
       "Index(['Season', 'id', 'matchid', 'Daynum', 'team', 'Result', 'score',\n",
       "       'oppscore', 'loc', 'Numot', 'fgm', 'fga', 'fgm3', 'fga3', 'ftm', 'fta',\n",
       "       'or', 'dr', 'ast', 'to', 'stl', 'blk', 'pf', 'oppdr', 'poss'],\n",
       "      dtype='object')"
      ]
     },
     "execution_count": 7,
     "metadata": {},
     "output_type": "execute_result"
    }
   ],
   "source": [
    "regdf.columns"
   ]
  },
  {
   "cell_type": "code",
   "execution_count": 8,
   "metadata": {
    "collapsed": true
   },
   "outputs": [],
   "source": [
    "#offensive efficiency\n",
    "regdf['oe'] = regdf['score']*100/regdf['poss']\n",
    "\n",
    "#defensive efficiency\n",
    "regdf['de'] = regdf['oppscore']*100/regdf['poss']\n",
    "\n",
    "#effective field goal pct\n",
    "regdf['efgp'] = (regdf['fgm']+ (0.5*regdf['fgm3'])) / regdf['fga']\n",
    "\n",
    "#turnover pct\n",
    "regdf['topct'] = regdf['to'] / regdf['poss']\n",
    "\n",
    "#offensive rebound pct\n",
    "regdf['orpct'] = regdf['or']/(regdf['or']+regdf['oppdr'])\n",
    "\n",
    "#free throw rate\n",
    "regdf['ftr'] = regdf['fta']/regdf['fga']\n",
    "##\n",
    "#free throw percentage\n",
    "regdf['ftp'] = regdf['ftm']/regdf['fta']\n",
    "\n",
    "#3 point percentage\n",
    "regdf['fgp3'] = regdf['fgm3']/regdf['fga3']\n",
    "\n",
    "#fg percentage\n",
    "regdf['fgp'] = regdf['fgm']/regdf['fga']\n",
    "\n",
    "#total rebounds\n",
    "regdf['tr'] = regdf['dr']+regdf['or']\n",
    "\n",
    "#point differential\n",
    "regdf['diff'] = regdf['score']-regdf['oppscore']"
   ]
  },
  {
   "cell_type": "code",
   "execution_count": 9,
   "metadata": {},
   "outputs": [
    {
     "data": {
      "text/html": [
       "<div>\n",
       "<style>\n",
       "    .dataframe thead tr:only-child th {\n",
       "        text-align: right;\n",
       "    }\n",
       "\n",
       "    .dataframe thead th {\n",
       "        text-align: left;\n",
       "    }\n",
       "\n",
       "    .dataframe tbody tr th {\n",
       "        vertical-align: top;\n",
       "    }\n",
       "</style>\n",
       "<table border=\"1\" class=\"dataframe\">\n",
       "  <thead>\n",
       "    <tr style=\"text-align: right;\">\n",
       "      <th></th>\n",
       "      <th>Season</th>\n",
       "      <th>id</th>\n",
       "      <th>matchid</th>\n",
       "      <th>Daynum</th>\n",
       "      <th>team</th>\n",
       "      <th>Result</th>\n",
       "      <th>score</th>\n",
       "      <th>oppscore</th>\n",
       "      <th>loc</th>\n",
       "      <th>Numot</th>\n",
       "      <th>...</th>\n",
       "      <th>de</th>\n",
       "      <th>efgp</th>\n",
       "      <th>topct</th>\n",
       "      <th>orpct</th>\n",
       "      <th>ftr</th>\n",
       "      <th>ftp</th>\n",
       "      <th>fgp3</th>\n",
       "      <th>fgp</th>\n",
       "      <th>tr</th>\n",
       "      <th>diff</th>\n",
       "    </tr>\n",
       "  </thead>\n",
       "  <tbody>\n",
       "    <tr>\n",
       "      <th>0</th>\n",
       "      <td>2003</td>\n",
       "      <td>1</td>\n",
       "      <td>2003-1</td>\n",
       "      <td>10</td>\n",
       "      <td>1104</td>\n",
       "      <td>1</td>\n",
       "      <td>68</td>\n",
       "      <td>62</td>\n",
       "      <td>N</td>\n",
       "      <td>0</td>\n",
       "      <td>...</td>\n",
       "      <td>99.358974</td>\n",
       "      <td>0.491379</td>\n",
       "      <td>0.368590</td>\n",
       "      <td>0.388889</td>\n",
       "      <td>0.310345</td>\n",
       "      <td>0.611111</td>\n",
       "      <td>0.214286</td>\n",
       "      <td>0.465517</td>\n",
       "      <td>38</td>\n",
       "      <td>6</td>\n",
       "    </tr>\n",
       "    <tr>\n",
       "      <th>1</th>\n",
       "      <td>2003</td>\n",
       "      <td>2</td>\n",
       "      <td>2003-2</td>\n",
       "      <td>10</td>\n",
       "      <td>1272</td>\n",
       "      <td>1</td>\n",
       "      <td>70</td>\n",
       "      <td>63</td>\n",
       "      <td>N</td>\n",
       "      <td>0</td>\n",
       "      <td>...</td>\n",
       "      <td>74.978578</td>\n",
       "      <td>0.483871</td>\n",
       "      <td>0.154718</td>\n",
       "      <td>0.375000</td>\n",
       "      <td>0.306452</td>\n",
       "      <td>0.526316</td>\n",
       "      <td>0.400000</td>\n",
       "      <td>0.419355</td>\n",
       "      <td>43</td>\n",
       "      <td>7</td>\n",
       "    </tr>\n",
       "    <tr>\n",
       "      <th>2</th>\n",
       "      <td>2003</td>\n",
       "      <td>3</td>\n",
       "      <td>2003-3</td>\n",
       "      <td>11</td>\n",
       "      <td>1266</td>\n",
       "      <td>1</td>\n",
       "      <td>73</td>\n",
       "      <td>61</td>\n",
       "      <td>N</td>\n",
       "      <td>0</td>\n",
       "      <td>...</td>\n",
       "      <td>74.144302</td>\n",
       "      <td>0.482759</td>\n",
       "      <td>0.121548</td>\n",
       "      <td>0.435897</td>\n",
       "      <td>0.500000</td>\n",
       "      <td>0.586207</td>\n",
       "      <td>0.444444</td>\n",
       "      <td>0.413793</td>\n",
       "      <td>43</td>\n",
       "      <td>12</td>\n",
       "    </tr>\n",
       "    <tr>\n",
       "      <th>3</th>\n",
       "      <td>2003</td>\n",
       "      <td>4</td>\n",
       "      <td>2003-4</td>\n",
       "      <td>11</td>\n",
       "      <td>1296</td>\n",
       "      <td>1</td>\n",
       "      <td>56</td>\n",
       "      <td>50</td>\n",
       "      <td>N</td>\n",
       "      <td>0</td>\n",
       "      <td>...</td>\n",
       "      <td>94.955940</td>\n",
       "      <td>0.513158</td>\n",
       "      <td>0.227894</td>\n",
       "      <td>0.230769</td>\n",
       "      <td>0.815789</td>\n",
       "      <td>0.548387</td>\n",
       "      <td>0.333333</td>\n",
       "      <td>0.473684</td>\n",
       "      <td>25</td>\n",
       "      <td>6</td>\n",
       "    </tr>\n",
       "    <tr>\n",
       "      <th>4</th>\n",
       "      <td>2003</td>\n",
       "      <td>5</td>\n",
       "      <td>2003-5</td>\n",
       "      <td>11</td>\n",
       "      <td>1400</td>\n",
       "      <td>1</td>\n",
       "      <td>77</td>\n",
       "      <td>71</td>\n",
       "      <td>N</td>\n",
       "      <td>0</td>\n",
       "      <td>...</td>\n",
       "      <td>92.447917</td>\n",
       "      <td>0.540984</td>\n",
       "      <td>0.182292</td>\n",
       "      <td>0.531250</td>\n",
       "      <td>0.213115</td>\n",
       "      <td>0.846154</td>\n",
       "      <td>0.428571</td>\n",
       "      <td>0.491803</td>\n",
       "      <td>39</td>\n",
       "      <td>6</td>\n",
       "    </tr>\n",
       "  </tbody>\n",
       "</table>\n",
       "<p>5 rows × 36 columns</p>\n",
       "</div>"
      ],
      "text/plain": [
       "   Season  id matchid  Daynum  team  Result  score  oppscore loc  Numot  ...   \\\n",
       "0    2003   1  2003-1      10  1104       1     68        62   N      0  ...    \n",
       "1    2003   2  2003-2      10  1272       1     70        63   N      0  ...    \n",
       "2    2003   3  2003-3      11  1266       1     73        61   N      0  ...    \n",
       "3    2003   4  2003-4      11  1296       1     56        50   N      0  ...    \n",
       "4    2003   5  2003-5      11  1400       1     77        71   N      0  ...    \n",
       "\n",
       "          de      efgp     topct     orpct       ftr       ftp      fgp3  \\\n",
       "0  99.358974  0.491379  0.368590  0.388889  0.310345  0.611111  0.214286   \n",
       "1  74.978578  0.483871  0.154718  0.375000  0.306452  0.526316  0.400000   \n",
       "2  74.144302  0.482759  0.121548  0.435897  0.500000  0.586207  0.444444   \n",
       "3  94.955940  0.513158  0.227894  0.230769  0.815789  0.548387  0.333333   \n",
       "4  92.447917  0.540984  0.182292  0.531250  0.213115  0.846154  0.428571   \n",
       "\n",
       "        fgp  tr  diff  \n",
       "0  0.465517  38     6  \n",
       "1  0.419355  43     7  \n",
       "2  0.413793  43    12  \n",
       "3  0.473684  25     6  \n",
       "4  0.491803  39     6  \n",
       "\n",
       "[5 rows x 36 columns]"
      ]
     },
     "execution_count": 9,
     "metadata": {},
     "output_type": "execute_result"
    }
   ],
   "source": [
    "regdf[:5]"
   ]
  },
  {
   "cell_type": "code",
   "execution_count": 10,
   "metadata": {},
   "outputs": [
    {
     "data": {
      "text/plain": [
       "Index(['Season', 'id', 'matchid', 'Daynum', 'team', 'Result', 'score',\n",
       "       'oppscore', 'loc', 'Numot', 'fgm', 'fga', 'fgm3', 'fga3', 'ftm', 'fta',\n",
       "       'or', 'dr', 'ast', 'to', 'stl', 'blk', 'pf', 'oppdr', 'poss', 'oe',\n",
       "       'de', 'efgp', 'topct', 'orpct', 'ftr', 'ftp', 'fgp3', 'fgp', 'tr',\n",
       "       'diff'],\n",
       "      dtype='object')"
      ]
     },
     "execution_count": 10,
     "metadata": {},
     "output_type": "execute_result"
    }
   ],
   "source": [
    "regdf.columns"
   ]
  },
  {
   "cell_type": "code",
   "execution_count": 11,
   "metadata": {
    "collapsed": true
   },
   "outputs": [],
   "source": [
    "gamecount = pd.DataFrame(pd.pivot_table(regdf,values=('Result'),index=('Season','team'),\n",
    "                            aggfunc = 'count')).reset_index()\n",
    "wincount = pd.DataFrame(pd.pivot_table(regdf,values=('Result'),index=('Season','team'),\n",
    "                            aggfunc = 'sum')).reset_index()\n"
   ]
  },
  {
   "cell_type": "code",
   "execution_count": 12,
   "metadata": {},
   "outputs": [
    {
     "data": {
      "text/plain": [
       "5130"
      ]
     },
     "execution_count": 12,
     "metadata": {},
     "output_type": "execute_result"
    }
   ],
   "source": [
    "teamseason = pd.DataFrame(pd.pivot_table(regdf,values=('Result', 'score', 'oppscore', 'fgm', 'fga', 'fgm3', 'fga3', 'ftm', 'fta', 'or', 'dr', 'ast', 'to', 'stl', 'blk', 'pf', 'ftp', 'fgp3', 'fgp', 'tr', 'diff', 'oe','de','efgp','topct','orpct','ftr'),index=('Season','team'),\n",
    "                            aggfunc = 'mean')).reset_index()\n",
    "teamseason[:5]\n",
    "len(teamseason)"
   ]
  },
  {
   "cell_type": "code",
   "execution_count": 13,
   "metadata": {},
   "outputs": [
    {
     "data": {
      "text/html": [
       "<div>\n",
       "<style>\n",
       "    .dataframe thead tr:only-child th {\n",
       "        text-align: right;\n",
       "    }\n",
       "\n",
       "    .dataframe thead th {\n",
       "        text-align: left;\n",
       "    }\n",
       "\n",
       "    .dataframe tbody tr th {\n",
       "        vertical-align: top;\n",
       "    }\n",
       "</style>\n",
       "<table border=\"1\" class=\"dataframe\">\n",
       "  <thead>\n",
       "    <tr style=\"text-align: right;\">\n",
       "      <th></th>\n",
       "      <th>Season</th>\n",
       "      <th>Team</th>\n",
       "      <th>elo</th>\n",
       "      <th>team</th>\n",
       "      <th>Result</th>\n",
       "      <th>ast</th>\n",
       "      <th>blk</th>\n",
       "      <th>de</th>\n",
       "      <th>diff</th>\n",
       "      <th>dr</th>\n",
       "      <th>...</th>\n",
       "      <th>oe</th>\n",
       "      <th>oppscore</th>\n",
       "      <th>or</th>\n",
       "      <th>orpct</th>\n",
       "      <th>pf</th>\n",
       "      <th>score</th>\n",
       "      <th>stl</th>\n",
       "      <th>to</th>\n",
       "      <th>topct</th>\n",
       "      <th>tr</th>\n",
       "    </tr>\n",
       "  </thead>\n",
       "  <tbody>\n",
       "    <tr>\n",
       "      <th>0</th>\n",
       "      <td>2003</td>\n",
       "      <td>1104.0</td>\n",
       "      <td>1766.0</td>\n",
       "      <td>1104</td>\n",
       "      <td>0.607143</td>\n",
       "      <td>12.107143</td>\n",
       "      <td>3.785714</td>\n",
       "      <td>86.493311</td>\n",
       "      <td>4.285714</td>\n",
       "      <td>23.928571</td>\n",
       "      <td>...</td>\n",
       "      <td>91.719199</td>\n",
       "      <td>65.000000</td>\n",
       "      <td>13.571429</td>\n",
       "      <td>0.371256</td>\n",
       "      <td>18.035714</td>\n",
       "      <td>69.285714</td>\n",
       "      <td>6.607143</td>\n",
       "      <td>13.285714</td>\n",
       "      <td>0.181352</td>\n",
       "      <td>37.500000</td>\n",
       "    </tr>\n",
       "    <tr>\n",
       "      <th>12</th>\n",
       "      <td>2003</td>\n",
       "      <td>1272.0</td>\n",
       "      <td>1864.0</td>\n",
       "      <td>1272</td>\n",
       "      <td>0.793103</td>\n",
       "      <td>16.620690</td>\n",
       "      <td>5.068966</td>\n",
       "      <td>83.491920</td>\n",
       "      <td>8.689655</td>\n",
       "      <td>25.965517</td>\n",
       "      <td>...</td>\n",
       "      <td>95.537038</td>\n",
       "      <td>65.827586</td>\n",
       "      <td>14.068966</td>\n",
       "      <td>0.366803</td>\n",
       "      <td>18.758621</td>\n",
       "      <td>74.517241</td>\n",
       "      <td>7.379310</td>\n",
       "      <td>13.793103</td>\n",
       "      <td>0.183159</td>\n",
       "      <td>40.034483</td>\n",
       "    </tr>\n",
       "    <tr>\n",
       "      <th>19</th>\n",
       "      <td>2003</td>\n",
       "      <td>1266.0</td>\n",
       "      <td>1925.0</td>\n",
       "      <td>1266</td>\n",
       "      <td>0.821429</td>\n",
       "      <td>16.321429</td>\n",
       "      <td>3.642857</td>\n",
       "      <td>84.881078</td>\n",
       "      <td>10.714286</td>\n",
       "      <td>24.071429</td>\n",
       "      <td>...</td>\n",
       "      <td>98.634441</td>\n",
       "      <td>67.678571</td>\n",
       "      <td>13.107143</td>\n",
       "      <td>0.415993</td>\n",
       "      <td>18.642857</td>\n",
       "      <td>78.392857</td>\n",
       "      <td>6.000000</td>\n",
       "      <td>13.571429</td>\n",
       "      <td>0.174371</td>\n",
       "      <td>37.178571</td>\n",
       "    </tr>\n",
       "    <tr>\n",
       "      <th>25</th>\n",
       "      <td>2003</td>\n",
       "      <td>1296.0</td>\n",
       "      <td>1602.0</td>\n",
       "      <td>1296</td>\n",
       "      <td>0.548387</td>\n",
       "      <td>12.677419</td>\n",
       "      <td>3.612903</td>\n",
       "      <td>101.763218</td>\n",
       "      <td>-0.193548</td>\n",
       "      <td>22.645161</td>\n",
       "      <td>...</td>\n",
       "      <td>101.663549</td>\n",
       "      <td>69.806452</td>\n",
       "      <td>13.000000</td>\n",
       "      <td>0.386674</td>\n",
       "      <td>19.806452</td>\n",
       "      <td>69.612903</td>\n",
       "      <td>7.612903</td>\n",
       "      <td>17.000000</td>\n",
       "      <td>0.253212</td>\n",
       "      <td>35.645161</td>\n",
       "    </tr>\n",
       "    <tr>\n",
       "      <th>40</th>\n",
       "      <td>2003</td>\n",
       "      <td>1400.0</td>\n",
       "      <td>1922.0</td>\n",
       "      <td>1400</td>\n",
       "      <td>0.785714</td>\n",
       "      <td>14.500000</td>\n",
       "      <td>3.857143</td>\n",
       "      <td>83.476254</td>\n",
       "      <td>10.178571</td>\n",
       "      <td>26.142857</td>\n",
       "      <td>...</td>\n",
       "      <td>97.523155</td>\n",
       "      <td>68.678571</td>\n",
       "      <td>16.178571</td>\n",
       "      <td>0.423020</td>\n",
       "      <td>20.357143</td>\n",
       "      <td>78.857143</td>\n",
       "      <td>6.392857</td>\n",
       "      <td>13.428571</td>\n",
       "      <td>0.173354</td>\n",
       "      <td>42.321429</td>\n",
       "    </tr>\n",
       "  </tbody>\n",
       "</table>\n",
       "<p>5 rows × 31 columns</p>\n",
       "</div>"
      ],
      "text/plain": [
       "   Season    Team     elo  team    Result        ast       blk          de  \\\n",
       "0    2003  1104.0  1766.0  1104  0.607143  12.107143  3.785714   86.493311   \n",
       "12   2003  1272.0  1864.0  1272  0.793103  16.620690  5.068966   83.491920   \n",
       "19   2003  1266.0  1925.0  1266  0.821429  16.321429  3.642857   84.881078   \n",
       "25   2003  1296.0  1602.0  1296  0.548387  12.677419  3.612903  101.763218   \n",
       "40   2003  1400.0  1922.0  1400  0.785714  14.500000  3.857143   83.476254   \n",
       "\n",
       "         diff         dr    ...              oe   oppscore         or  \\\n",
       "0    4.285714  23.928571    ...       91.719199  65.000000  13.571429   \n",
       "12   8.689655  25.965517    ...       95.537038  65.827586  14.068966   \n",
       "19  10.714286  24.071429    ...       98.634441  67.678571  13.107143   \n",
       "25  -0.193548  22.645161    ...      101.663549  69.806452  13.000000   \n",
       "40  10.178571  26.142857    ...       97.523155  68.678571  16.178571   \n",
       "\n",
       "       orpct         pf      score       stl         to     topct         tr  \n",
       "0   0.371256  18.035714  69.285714  6.607143  13.285714  0.181352  37.500000  \n",
       "12  0.366803  18.758621  74.517241  7.379310  13.793103  0.183159  40.034483  \n",
       "19  0.415993  18.642857  78.392857  6.000000  13.571429  0.174371  37.178571  \n",
       "25  0.386674  19.806452  69.612903  7.612903  17.000000  0.253212  35.645161  \n",
       "40  0.423020  20.357143  78.857143  6.392857  13.428571  0.173354  42.321429  \n",
       "\n",
       "[5 rows x 31 columns]"
      ]
     },
     "execution_count": 13,
     "metadata": {},
     "output_type": "execute_result"
    }
   ],
   "source": [
    "teamseason = pd.merge(elo, teamseason, how='right', left_on=['Season','team'], \n",
    "                           right_on = ['Season','team'])\n",
    "teamseason = teamseason[pd.notnull(teamseason['elo'])]\n",
    "teamseason.head()"
   ]
  },
  {
   "cell_type": "code",
   "execution_count": 14,
   "metadata": {},
   "outputs": [
    {
     "data": {
      "text/plain": [
       "Index(['Season', 'Team', 'elo', 'team', 'Result', 'ast', 'blk', 'de', 'diff',\n",
       "       'dr', 'efgp', 'fga', 'fga3', 'fgm', 'fgm3', 'fgp', 'fgp3', 'fta', 'ftm',\n",
       "       'ftp', 'ftr', 'oe', 'oppscore', 'or', 'orpct', 'pf', 'score', 'stl',\n",
       "       'to', 'topct', 'tr'],\n",
       "      dtype='object')"
      ]
     },
     "execution_count": 14,
     "metadata": {},
     "output_type": "execute_result"
    }
   ],
   "source": [
    "teamseason.columns"
   ]
  },
  {
   "cell_type": "code",
   "execution_count": 15,
   "metadata": {
    "collapsed": true
   },
   "outputs": [],
   "source": [
    "sidtourney = pd.read_csv('TourneyMatches.csv')\n",
    "#sidtourney.head()"
   ]
  },
  {
   "cell_type": "code",
   "execution_count": 16,
   "metadata": {
    "collapsed": true
   },
   "outputs": [],
   "source": [
    "tourneymatches = pd.read_csv(\"TourneyDetailedResults.csv\")"
   ]
  },
  {
   "cell_type": "code",
   "execution_count": 17,
   "metadata": {},
   "outputs": [
    {
     "data": {
      "text/html": [
       "<div>\n",
       "<style>\n",
       "    .dataframe thead tr:only-child th {\n",
       "        text-align: right;\n",
       "    }\n",
       "\n",
       "    .dataframe thead th {\n",
       "        text-align: left;\n",
       "    }\n",
       "\n",
       "    .dataframe tbody tr th {\n",
       "        vertical-align: top;\n",
       "    }\n",
       "</style>\n",
       "<table border=\"1\" class=\"dataframe\">\n",
       "  <thead>\n",
       "    <tr style=\"text-align: right;\">\n",
       "      <th></th>\n",
       "      <th>Season</th>\n",
       "      <th>opp</th>\n",
       "      <th>team</th>\n",
       "      <th>gamediff</th>\n",
       "      <th>result</th>\n",
       "    </tr>\n",
       "  </thead>\n",
       "  <tbody>\n",
       "    <tr>\n",
       "      <th>0</th>\n",
       "      <td>2003</td>\n",
       "      <td>1421</td>\n",
       "      <td>1411</td>\n",
       "      <td>-8</td>\n",
       "      <td>0</td>\n",
       "    </tr>\n",
       "    <tr>\n",
       "      <th>1</th>\n",
       "      <td>2003</td>\n",
       "      <td>1112</td>\n",
       "      <td>1436</td>\n",
       "      <td>-29</td>\n",
       "      <td>0</td>\n",
       "    </tr>\n",
       "    <tr>\n",
       "      <th>2</th>\n",
       "      <td>2003</td>\n",
       "      <td>1113</td>\n",
       "      <td>1272</td>\n",
       "      <td>-13</td>\n",
       "      <td>0</td>\n",
       "    </tr>\n",
       "    <tr>\n",
       "      <th>3</th>\n",
       "      <td>2003</td>\n",
       "      <td>1141</td>\n",
       "      <td>1166</td>\n",
       "      <td>-6</td>\n",
       "      <td>0</td>\n",
       "    </tr>\n",
       "    <tr>\n",
       "      <th>4</th>\n",
       "      <td>2003</td>\n",
       "      <td>1143</td>\n",
       "      <td>1301</td>\n",
       "      <td>-2</td>\n",
       "      <td>0</td>\n",
       "    </tr>\n",
       "  </tbody>\n",
       "</table>\n",
       "</div>"
      ],
      "text/plain": [
       "   Season   opp  team  gamediff  result\n",
       "0    2003  1421  1411        -8       0\n",
       "1    2003  1112  1436       -29       0\n",
       "2    2003  1113  1272       -13       0\n",
       "3    2003  1141  1166        -6       0\n",
       "4    2003  1143  1301        -2       0"
      ]
     },
     "execution_count": 17,
     "metadata": {},
     "output_type": "execute_result"
    }
   ],
   "source": [
    "#added a difference column\n",
    "\n",
    "tourneymatches = pd.read_csv(\"TourneyDetailedResults.csv\")\n",
    "tourneymatches['gamediff'] = tourneymatches['Wscore'] - tourneymatches['Lscore']\n",
    "tourneymatches = tourneymatches[['Season','Wteam','Lteam','gamediff']]\n",
    "tourneymatches.columns.values[1] = 'team'\n",
    "tourneymatches.columns.values[2] = 'opp'\n",
    "tourneymatches['result'] = 1\n",
    "\n",
    "tourneymatchesL = pd.read_csv(\"TourneyDetailedResults.csv\")\n",
    "tourneymatchesL['gamediff'] = (tourneymatchesL['Wscore'] - tourneymatchesL['Lscore'])*-1\n",
    "tourneymatchesL = tourneymatchesL[['Season','Wteam','Lteam','gamediff']]\n",
    "tourneymatchesL.columns.values[2] = 'team'\n",
    "tourneymatchesL.columns.values[1] = 'opp'\n",
    "tourneymatchesL['result'] = 0\n",
    "tourneymatchesL.head()"
   ]
  },
  {
   "cell_type": "code",
   "execution_count": 18,
   "metadata": {
    "collapsed": true
   },
   "outputs": [],
   "source": [
    "dubmatches = tourneymatches.append(tourneymatchesL)"
   ]
  },
  {
   "cell_type": "code",
   "execution_count": 19,
   "metadata": {
    "collapsed": true
   },
   "outputs": [],
   "source": [
    "tourneymatches1 = pd.merge(dubmatches, teamseason,  how='left', left_on=['Season','team'], \n",
    "                           right_on = ['Season','team'])"
   ]
  },
  {
   "cell_type": "code",
   "execution_count": 20,
   "metadata": {
    "collapsed": true
   },
   "outputs": [],
   "source": [
    "tourneymatches_final = pd.merge(tourneymatches1, teamseason,  how='left', left_on=['Season','opp'], \n",
    "                           right_on = ['Season','team'], suffixes = ('','_opp'))"
   ]
  },
  {
   "cell_type": "code",
   "execution_count": 21,
   "metadata": {},
   "outputs": [
    {
     "data": {
      "text/html": [
       "<div>\n",
       "<style>\n",
       "    .dataframe thead tr:only-child th {\n",
       "        text-align: right;\n",
       "    }\n",
       "\n",
       "    .dataframe thead th {\n",
       "        text-align: left;\n",
       "    }\n",
       "\n",
       "    .dataframe tbody tr th {\n",
       "        vertical-align: top;\n",
       "    }\n",
       "</style>\n",
       "<table border=\"1\" class=\"dataframe\">\n",
       "  <thead>\n",
       "    <tr style=\"text-align: right;\">\n",
       "      <th></th>\n",
       "      <th>Season</th>\n",
       "      <th>gamediff</th>\n",
       "      <th>opp</th>\n",
       "      <th>result</th>\n",
       "      <th>team</th>\n",
       "      <th>Team</th>\n",
       "      <th>elo</th>\n",
       "      <th>Result</th>\n",
       "      <th>ast</th>\n",
       "      <th>blk</th>\n",
       "      <th>...</th>\n",
       "      <th>oe_opp</th>\n",
       "      <th>oppscore_opp</th>\n",
       "      <th>or_opp</th>\n",
       "      <th>orpct_opp</th>\n",
       "      <th>pf_opp</th>\n",
       "      <th>score_opp</th>\n",
       "      <th>stl_opp</th>\n",
       "      <th>to_opp</th>\n",
       "      <th>topct_opp</th>\n",
       "      <th>tr_opp</th>\n",
       "    </tr>\n",
       "  </thead>\n",
       "  <tbody>\n",
       "    <tr>\n",
       "      <th>1818</th>\n",
       "      <td>2016</td>\n",
       "      <td>-5</td>\n",
       "      <td>1323</td>\n",
       "      <td>0</td>\n",
       "      <td>1458</td>\n",
       "      <td>1458.0</td>\n",
       "      <td>1903.0</td>\n",
       "      <td>0.625000</td>\n",
       "      <td>11.593750</td>\n",
       "      <td>3.187500</td>\n",
       "      <td>...</td>\n",
       "      <td>85.822266</td>\n",
       "      <td>70.593750</td>\n",
       "      <td>10.906250</td>\n",
       "      <td>0.321587</td>\n",
       "      <td>15.500000</td>\n",
       "      <td>75.718750</td>\n",
       "      <td>5.593750</td>\n",
       "      <td>9.718750</td>\n",
       "      <td>0.113371</td>\n",
       "      <td>36.062500</td>\n",
       "    </tr>\n",
       "    <tr>\n",
       "      <th>1819</th>\n",
       "      <td>2016</td>\n",
       "      <td>-3</td>\n",
       "      <td>1393</td>\n",
       "      <td>0</td>\n",
       "      <td>1211</td>\n",
       "      <td>1211.0</td>\n",
       "      <td>1852.0</td>\n",
       "      <td>0.781250</td>\n",
       "      <td>13.875000</td>\n",
       "      <td>3.000000</td>\n",
       "      <td>...</td>\n",
       "      <td>91.826639</td>\n",
       "      <td>65.718750</td>\n",
       "      <td>11.812500</td>\n",
       "      <td>0.330689</td>\n",
       "      <td>16.562500</td>\n",
       "      <td>70.218750</td>\n",
       "      <td>8.093750</td>\n",
       "      <td>12.125000</td>\n",
       "      <td>0.161326</td>\n",
       "      <td>35.531250</td>\n",
       "    </tr>\n",
       "    <tr>\n",
       "      <th>1820</th>\n",
       "      <td>2016</td>\n",
       "      <td>-13</td>\n",
       "      <td>1438</td>\n",
       "      <td>0</td>\n",
       "      <td>1235</td>\n",
       "      <td>1235.0</td>\n",
       "      <td>1797.0</td>\n",
       "      <td>0.656250</td>\n",
       "      <td>16.531250</td>\n",
       "      <td>4.218750</td>\n",
       "      <td>...</td>\n",
       "      <td>92.805039</td>\n",
       "      <td>59.666667</td>\n",
       "      <td>8.969697</td>\n",
       "      <td>0.304645</td>\n",
       "      <td>16.363636</td>\n",
       "      <td>70.363636</td>\n",
       "      <td>5.484848</td>\n",
       "      <td>9.393939</td>\n",
       "      <td>0.127768</td>\n",
       "      <td>31.878788</td>\n",
       "    </tr>\n",
       "    <tr>\n",
       "      <th>1821</th>\n",
       "      <td>2016</td>\n",
       "      <td>-12</td>\n",
       "      <td>1328</td>\n",
       "      <td>0</td>\n",
       "      <td>1332</td>\n",
       "      <td>1332.0</td>\n",
       "      <td>1997.0</td>\n",
       "      <td>0.818182</td>\n",
       "      <td>13.636364</td>\n",
       "      <td>5.818182</td>\n",
       "      <td>...</td>\n",
       "      <td>91.208421</td>\n",
       "      <td>70.437500</td>\n",
       "      <td>10.718750</td>\n",
       "      <td>0.302436</td>\n",
       "      <td>16.812500</td>\n",
       "      <td>80.406250</td>\n",
       "      <td>6.906250</td>\n",
       "      <td>12.968750</td>\n",
       "      <td>0.152937</td>\n",
       "      <td>38.812500</td>\n",
       "    </tr>\n",
       "    <tr>\n",
       "      <th>1822</th>\n",
       "      <td>2016</td>\n",
       "      <td>-5</td>\n",
       "      <td>1437</td>\n",
       "      <td>0</td>\n",
       "      <td>1242</td>\n",
       "      <td>1242.0</td>\n",
       "      <td>2085.0</td>\n",
       "      <td>0.878788</td>\n",
       "      <td>15.454545</td>\n",
       "      <td>4.000000</td>\n",
       "      <td>...</td>\n",
       "      <td>94.918688</td>\n",
       "      <td>63.705882</td>\n",
       "      <td>9.264706</td>\n",
       "      <td>0.280623</td>\n",
       "      <td>17.529412</td>\n",
       "      <td>76.970588</td>\n",
       "      <td>6.735294</td>\n",
       "      <td>11.117647</td>\n",
       "      <td>0.139402</td>\n",
       "      <td>35.617647</td>\n",
       "    </tr>\n",
       "    <tr>\n",
       "      <th>1823</th>\n",
       "      <td>2016</td>\n",
       "      <td>-14</td>\n",
       "      <td>1314</td>\n",
       "      <td>0</td>\n",
       "      <td>1323</td>\n",
       "      <td>1323.0</td>\n",
       "      <td>1818.0</td>\n",
       "      <td>0.656250</td>\n",
       "      <td>13.468750</td>\n",
       "      <td>3.906250</td>\n",
       "      <td>...</td>\n",
       "      <td>92.356705</td>\n",
       "      <td>69.558824</td>\n",
       "      <td>14.029412</td>\n",
       "      <td>0.384705</td>\n",
       "      <td>17.911765</td>\n",
       "      <td>82.264706</td>\n",
       "      <td>6.882353</td>\n",
       "      <td>10.911765</td>\n",
       "      <td>0.123793</td>\n",
       "      <td>40.970588</td>\n",
       "    </tr>\n",
       "    <tr>\n",
       "      <th>1824</th>\n",
       "      <td>2016</td>\n",
       "      <td>-6</td>\n",
       "      <td>1393</td>\n",
       "      <td>0</td>\n",
       "      <td>1438</td>\n",
       "      <td>1438.0</td>\n",
       "      <td>1995.0</td>\n",
       "      <td>0.787879</td>\n",
       "      <td>14.333333</td>\n",
       "      <td>2.939394</td>\n",
       "      <td>...</td>\n",
       "      <td>91.826639</td>\n",
       "      <td>65.718750</td>\n",
       "      <td>11.812500</td>\n",
       "      <td>0.330689</td>\n",
       "      <td>16.562500</td>\n",
       "      <td>70.218750</td>\n",
       "      <td>8.093750</td>\n",
       "      <td>12.125000</td>\n",
       "      <td>0.161326</td>\n",
       "      <td>35.531250</td>\n",
       "    </tr>\n",
       "    <tr>\n",
       "      <th>1825</th>\n",
       "      <td>2016</td>\n",
       "      <td>-17</td>\n",
       "      <td>1314</td>\n",
       "      <td>0</td>\n",
       "      <td>1393</td>\n",
       "      <td>1393.0</td>\n",
       "      <td>1770.0</td>\n",
       "      <td>0.593750</td>\n",
       "      <td>14.062500</td>\n",
       "      <td>4.062500</td>\n",
       "      <td>...</td>\n",
       "      <td>92.356705</td>\n",
       "      <td>69.558824</td>\n",
       "      <td>14.029412</td>\n",
       "      <td>0.384705</td>\n",
       "      <td>17.911765</td>\n",
       "      <td>82.264706</td>\n",
       "      <td>6.882353</td>\n",
       "      <td>10.911765</td>\n",
       "      <td>0.123793</td>\n",
       "      <td>40.970588</td>\n",
       "    </tr>\n",
       "    <tr>\n",
       "      <th>1826</th>\n",
       "      <td>2016</td>\n",
       "      <td>-44</td>\n",
       "      <td>1437</td>\n",
       "      <td>0</td>\n",
       "      <td>1328</td>\n",
       "      <td>1328.0</td>\n",
       "      <td>1915.0</td>\n",
       "      <td>0.781250</td>\n",
       "      <td>14.531250</td>\n",
       "      <td>5.250000</td>\n",
       "      <td>...</td>\n",
       "      <td>94.918688</td>\n",
       "      <td>63.705882</td>\n",
       "      <td>9.264706</td>\n",
       "      <td>0.280623</td>\n",
       "      <td>17.529412</td>\n",
       "      <td>76.970588</td>\n",
       "      <td>6.735294</td>\n",
       "      <td>11.117647</td>\n",
       "      <td>0.139402</td>\n",
       "      <td>35.617647</td>\n",
       "    </tr>\n",
       "    <tr>\n",
       "      <th>1827</th>\n",
       "      <td>2016</td>\n",
       "      <td>-3</td>\n",
       "      <td>1437</td>\n",
       "      <td>0</td>\n",
       "      <td>1314</td>\n",
       "      <td>1314.0</td>\n",
       "      <td>1991.0</td>\n",
       "      <td>0.823529</td>\n",
       "      <td>18.117647</td>\n",
       "      <td>4.382353</td>\n",
       "      <td>...</td>\n",
       "      <td>94.918688</td>\n",
       "      <td>63.705882</td>\n",
       "      <td>9.264706</td>\n",
       "      <td>0.280623</td>\n",
       "      <td>17.529412</td>\n",
       "      <td>76.970588</td>\n",
       "      <td>6.735294</td>\n",
       "      <td>11.117647</td>\n",
       "      <td>0.139402</td>\n",
       "      <td>35.617647</td>\n",
       "    </tr>\n",
       "  </tbody>\n",
       "</table>\n",
       "<p>10 rows × 64 columns</p>\n",
       "</div>"
      ],
      "text/plain": [
       "     Season  gamediff   opp  result  team    Team     elo    Result  \\\n",
       "1818   2016        -5  1323       0  1458  1458.0  1903.0  0.625000   \n",
       "1819   2016        -3  1393       0  1211  1211.0  1852.0  0.781250   \n",
       "1820   2016       -13  1438       0  1235  1235.0  1797.0  0.656250   \n",
       "1821   2016       -12  1328       0  1332  1332.0  1997.0  0.818182   \n",
       "1822   2016        -5  1437       0  1242  1242.0  2085.0  0.878788   \n",
       "1823   2016       -14  1314       0  1323  1323.0  1818.0  0.656250   \n",
       "1824   2016        -6  1393       0  1438  1438.0  1995.0  0.787879   \n",
       "1825   2016       -17  1314       0  1393  1393.0  1770.0  0.593750   \n",
       "1826   2016       -44  1437       0  1328  1328.0  1915.0  0.781250   \n",
       "1827   2016        -3  1437       0  1314  1314.0  1991.0  0.823529   \n",
       "\n",
       "            ast       blk    ...         oe_opp  oppscore_opp     or_opp  \\\n",
       "1818  11.593750  3.187500    ...      85.822266     70.593750  10.906250   \n",
       "1819  13.875000  3.000000    ...      91.826639     65.718750  11.812500   \n",
       "1820  16.531250  4.218750    ...      92.805039     59.666667   8.969697   \n",
       "1821  13.636364  5.818182    ...      91.208421     70.437500  10.718750   \n",
       "1822  15.454545  4.000000    ...      94.918688     63.705882   9.264706   \n",
       "1823  13.468750  3.906250    ...      92.356705     69.558824  14.029412   \n",
       "1824  14.333333  2.939394    ...      91.826639     65.718750  11.812500   \n",
       "1825  14.062500  4.062500    ...      92.356705     69.558824  14.029412   \n",
       "1826  14.531250  5.250000    ...      94.918688     63.705882   9.264706   \n",
       "1827  18.117647  4.382353    ...      94.918688     63.705882   9.264706   \n",
       "\n",
       "      orpct_opp     pf_opp  score_opp   stl_opp     to_opp  topct_opp  \\\n",
       "1818   0.321587  15.500000  75.718750  5.593750   9.718750   0.113371   \n",
       "1819   0.330689  16.562500  70.218750  8.093750  12.125000   0.161326   \n",
       "1820   0.304645  16.363636  70.363636  5.484848   9.393939   0.127768   \n",
       "1821   0.302436  16.812500  80.406250  6.906250  12.968750   0.152937   \n",
       "1822   0.280623  17.529412  76.970588  6.735294  11.117647   0.139402   \n",
       "1823   0.384705  17.911765  82.264706  6.882353  10.911765   0.123793   \n",
       "1824   0.330689  16.562500  70.218750  8.093750  12.125000   0.161326   \n",
       "1825   0.384705  17.911765  82.264706  6.882353  10.911765   0.123793   \n",
       "1826   0.280623  17.529412  76.970588  6.735294  11.117647   0.139402   \n",
       "1827   0.280623  17.529412  76.970588  6.735294  11.117647   0.139402   \n",
       "\n",
       "         tr_opp  \n",
       "1818  36.062500  \n",
       "1819  35.531250  \n",
       "1820  31.878788  \n",
       "1821  38.812500  \n",
       "1822  35.617647  \n",
       "1823  40.970588  \n",
       "1824  35.531250  \n",
       "1825  40.970588  \n",
       "1826  35.617647  \n",
       "1827  35.617647  \n",
       "\n",
       "[10 rows x 64 columns]"
      ]
     },
     "execution_count": 21,
     "metadata": {},
     "output_type": "execute_result"
    }
   ],
   "source": [
    "tourneymatches_final[-10:]"
   ]
  },
  {
   "cell_type": "code",
   "execution_count": 22,
   "metadata": {},
   "outputs": [
    {
     "data": {
      "text/plain": [
       "Index(['Season', 'gamediff', 'opp', 'result', 'team', 'Team', 'elo', 'Result',\n",
       "       'ast', 'blk', 'de', 'diff', 'dr', 'efgp', 'fga', 'fga3', 'fgm', 'fgm3',\n",
       "       'fgp', 'fgp3', 'fta', 'ftm', 'ftp', 'ftr', 'oe', 'oppscore', 'or',\n",
       "       'orpct', 'pf', 'score', 'stl', 'to', 'topct', 'tr', 'Team_opp',\n",
       "       'elo_opp', 'team_opp', 'Result_opp', 'ast_opp', 'blk_opp', 'de_opp',\n",
       "       'diff_opp', 'dr_opp', 'efgp_opp', 'fga_opp', 'fga3_opp', 'fgm_opp',\n",
       "       'fgm3_opp', 'fgp_opp', 'fgp3_opp', 'fta_opp', 'ftm_opp', 'ftp_opp',\n",
       "       'ftr_opp', 'oe_opp', 'oppscore_opp', 'or_opp', 'orpct_opp', 'pf_opp',\n",
       "       'score_opp', 'stl_opp', 'to_opp', 'topct_opp', 'tr_opp'],\n",
       "      dtype='object')"
      ]
     },
     "execution_count": 22,
     "metadata": {},
     "output_type": "execute_result"
    }
   ],
   "source": [
    "tourneymatches_final.columns"
   ]
  },
  {
   "cell_type": "code",
   "execution_count": 23,
   "metadata": {
    "collapsed": true
   },
   "outputs": [],
   "source": [
    "train = tourneymatches_final[tourneymatches_final['Season']<2016]\n",
    "test = tourneymatches_final[tourneymatches_final['Season']==2016]"
   ]
  },
  {
   "cell_type": "code",
   "execution_count": 24,
   "metadata": {},
   "outputs": [
    {
     "data": {
      "text/plain": [
       "Index(['Season', 'gamediff', 'opp', 'result', 'team', 'Team', 'elo', 'Result',\n",
       "       'ast', 'blk', 'de', 'diff', 'dr', 'efgp', 'fga', 'fga3', 'fgm', 'fgm3',\n",
       "       'fgp', 'fgp3', 'fta', 'ftm', 'ftp', 'ftr', 'oe', 'oppscore', 'or',\n",
       "       'orpct', 'pf', 'score', 'stl', 'to', 'topct', 'tr', 'Team_opp',\n",
       "       'elo_opp', 'team_opp', 'Result_opp', 'ast_opp', 'blk_opp', 'de_opp',\n",
       "       'diff_opp', 'dr_opp', 'efgp_opp', 'fga_opp', 'fga3_opp', 'fgm_opp',\n",
       "       'fgm3_opp', 'fgp_opp', 'fgp3_opp', 'fta_opp', 'ftm_opp', 'ftp_opp',\n",
       "       'ftr_opp', 'oe_opp', 'oppscore_opp', 'or_opp', 'orpct_opp', 'pf_opp',\n",
       "       'score_opp', 'stl_opp', 'to_opp', 'topct_opp', 'tr_opp'],\n",
       "      dtype='object')"
      ]
     },
     "execution_count": 24,
     "metadata": {},
     "output_type": "execute_result"
    }
   ],
   "source": [
    "train.columns"
   ]
  },
  {
   "cell_type": "markdown",
   "metadata": {},
   "source": [
    "# Logit Model 1"
   ]
  },
  {
   "cell_type": "code",
   "execution_count": 47,
   "metadata": {
    "collapsed": true
   },
   "outputs": [],
   "source": [
    "formula = 'result ~ 0 + de + efgp + ftr + oe + orpct + topct + de_opp + efgp_opp + ftr_opp + oe_opp + orpct_opp + topct_opp'"
   ]
  },
  {
   "cell_type": "code",
   "execution_count": 48,
   "metadata": {
    "collapsed": true
   },
   "outputs": [],
   "source": [
    "Y_train, X_train = dmatrices(formula, train, return_type='dataframe')\n",
    "y_train = Y_train['result'].values\n",
    "\n",
    "\n",
    "Y_test, X_test = dmatrices(formula, test, return_type='dataframe')\n",
    "y_test = Y_test['result'].values"
   ]
  },
  {
   "cell_type": "code",
   "execution_count": 49,
   "metadata": {
    "collapsed": true
   },
   "outputs": [],
   "source": [
    "model = LogisticRegression()\n",
    "result = model.fit(X_train, y_train)"
   ]
  },
  {
   "cell_type": "code",
   "execution_count": 50,
   "metadata": {},
   "outputs": [
    {
     "name": "stdout",
     "output_type": "stream",
     "text": [
      "0.669421487603\n"
     ]
    }
   ],
   "source": [
    "prediction_train = model.predict(X_train)\n",
    "print (metrics.accuracy_score(y_train, prediction_train))"
   ]
  },
  {
   "cell_type": "code",
   "execution_count": 51,
   "metadata": {},
   "outputs": [
    {
     "name": "stdout",
     "output_type": "stream",
     "text": [
      "0.701492537313\n"
     ]
    }
   ],
   "source": [
    "prediction = model.predict(X_test)\n",
    "print (metrics.accuracy_score(y_test, prediction))"
   ]
  },
  {
   "cell_type": "code",
   "execution_count": 52,
   "metadata": {},
   "outputs": [
    {
     "data": {
      "text/plain": [
       "array([[ 0.27020427,  0.72979573],\n",
       "       [ 0.28437302,  0.71562698],\n",
       "       [ 0.74123191,  0.25876809],\n",
       "       [ 0.41912403,  0.58087597],\n",
       "       [ 0.59793721,  0.40206279],\n",
       "       [ 0.26921464,  0.73078536],\n",
       "       [ 0.27862809,  0.72137191],\n",
       "       [ 0.41882819,  0.58117181],\n",
       "       [ 0.31763859,  0.68236141],\n",
       "       [ 0.25151876,  0.74848124],\n",
       "       [ 0.45109884,  0.54890116],\n",
       "       [ 0.06422176,  0.93577824],\n",
       "       [ 0.48006221,  0.51993779],\n",
       "       [ 0.22504371,  0.77495629],\n",
       "       [ 0.17815512,  0.82184488],\n",
       "       [ 0.5805402 ,  0.4194598 ],\n",
       "       [ 0.38862018,  0.61137982],\n",
       "       [ 0.17706943,  0.82293057],\n",
       "       [ 0.37634916,  0.62365084],\n",
       "       [ 0.31046953,  0.68953047],\n",
       "       [ 0.42665804,  0.57334196],\n",
       "       [ 0.30554841,  0.69445159],\n",
       "       [ 0.43240279,  0.56759721],\n",
       "       [ 0.88905329,  0.11094671],\n",
       "       [ 0.48717867,  0.51282133],\n",
       "       [ 0.50865816,  0.49134184],\n",
       "       [ 0.53485314,  0.46514686],\n",
       "       [ 0.10018573,  0.89981427],\n",
       "       [ 0.38300411,  0.61699589],\n",
       "       [ 0.64749818,  0.35250182],\n",
       "       [ 0.59162229,  0.40837771],\n",
       "       [ 0.22162619,  0.77837381],\n",
       "       [ 0.17802936,  0.82197064],\n",
       "       [ 0.19136001,  0.80863999],\n",
       "       [ 0.57928942,  0.42071058],\n",
       "       [ 0.30669725,  0.69330275],\n",
       "       [ 0.62297693,  0.37702307],\n",
       "       [ 0.28608436,  0.71391564],\n",
       "       [ 0.46791553,  0.53208447],\n",
       "       [ 0.66018729,  0.33981271],\n",
       "       [ 0.46714639,  0.53285361],\n",
       "       [ 0.7373259 ,  0.2626741 ],\n",
       "       [ 0.20114552,  0.79885448],\n",
       "       [ 0.35221092,  0.64778908],\n",
       "       [ 0.55311671,  0.44688329],\n",
       "       [ 0.81289731,  0.18710269],\n",
       "       [ 0.58962924,  0.41037076],\n",
       "       [ 0.47126897,  0.52873103],\n",
       "       [ 0.46222921,  0.53777079],\n",
       "       [ 0.27246104,  0.72753896],\n",
       "       [ 0.3312806 ,  0.6687194 ],\n",
       "       [ 0.67077326,  0.32922674],\n",
       "       [ 0.36850746,  0.63149254],\n",
       "       [ 0.56055523,  0.43944477],\n",
       "       [ 0.46593669,  0.53406331],\n",
       "       [ 0.29323016,  0.70676984],\n",
       "       [ 0.49248826,  0.50751174],\n",
       "       [ 0.45889816,  0.54110184],\n",
       "       [ 0.74829317,  0.25170683],\n",
       "       [ 0.30346893,  0.69653107],\n",
       "       [ 0.5080413 ,  0.4919587 ],\n",
       "       [ 0.44232605,  0.55767395],\n",
       "       [ 0.24482755,  0.75517245],\n",
       "       [ 0.74734938,  0.25265062],\n",
       "       [ 0.223526  ,  0.776474  ],\n",
       "       [ 0.32076655,  0.67923345],\n",
       "       [ 0.47973545,  0.52026455],\n",
       "       [ 0.7297984 ,  0.2702016 ],\n",
       "       [ 0.71562635,  0.28437365],\n",
       "       [ 0.25877111,  0.74122889],\n",
       "       [ 0.58087745,  0.41912255],\n",
       "       [ 0.402062  ,  0.597938  ],\n",
       "       [ 0.7307866 ,  0.2692134 ],\n",
       "       [ 0.72137247,  0.27862753],\n",
       "       [ 0.58117269,  0.41882731],\n",
       "       [ 0.68236144,  0.31763856],\n",
       "       [ 0.74848118,  0.25151882],\n",
       "       [ 0.54890241,  0.45109759],\n",
       "       [ 0.93577868,  0.06422132],\n",
       "       [ 0.51993719,  0.48006281],\n",
       "       [ 0.7749576 ,  0.2250424 ],\n",
       "       [ 0.82184534,  0.17815466],\n",
       "       [ 0.4194614 ,  0.5805386 ],\n",
       "       [ 0.61138142,  0.38861858],\n",
       "       [ 0.82293113,  0.17706887],\n",
       "       [ 0.62364965,  0.37635035],\n",
       "       [ 0.68953079,  0.31046921],\n",
       "       [ 0.57334205,  0.42665795],\n",
       "       [ 0.69445285,  0.30554715],\n",
       "       [ 0.56759777,  0.43240223],\n",
       "       [ 0.11094662,  0.88905338],\n",
       "       [ 0.51282321,  0.48717679],\n",
       "       [ 0.49134326,  0.50865674],\n",
       "       [ 0.46514699,  0.53485301],\n",
       "       [ 0.89981522,  0.10018478],\n",
       "       [ 0.61699417,  0.38300583],\n",
       "       [ 0.35250182,  0.64749818],\n",
       "       [ 0.40837877,  0.59162123],\n",
       "       [ 0.77837457,  0.22162543],\n",
       "       [ 0.82197136,  0.17802864],\n",
       "       [ 0.80863996,  0.19136004],\n",
       "       [ 0.42071204,  0.57928796],\n",
       "       [ 0.69330336,  0.30669664],\n",
       "       [ 0.37702306,  0.62297694],\n",
       "       [ 0.71391577,  0.28608423],\n",
       "       [ 0.53208351,  0.46791649],\n",
       "       [ 0.33981297,  0.66018703],\n",
       "       [ 0.53285285,  0.46714715],\n",
       "       [ 0.26267357,  0.73732643],\n",
       "       [ 0.79885485,  0.20114515],\n",
       "       [ 0.64778893,  0.35221107],\n",
       "       [ 0.44688317,  0.55311683],\n",
       "       [ 0.18710244,  0.81289756],\n",
       "       [ 0.41037066,  0.58962934],\n",
       "       [ 0.52873141,  0.47126859],\n",
       "       [ 0.53777255,  0.46222745],\n",
       "       [ 0.72753952,  0.27246048],\n",
       "       [ 0.66871884,  0.33128116],\n",
       "       [ 0.32922752,  0.67077248],\n",
       "       [ 0.63149212,  0.36850788],\n",
       "       [ 0.43944479,  0.56055521],\n",
       "       [ 0.53406367,  0.46593633],\n",
       "       [ 0.70676937,  0.29323063],\n",
       "       [ 0.50751071,  0.49248929],\n",
       "       [ 0.5411035 ,  0.4588965 ],\n",
       "       [ 0.25170715,  0.74829285],\n",
       "       [ 0.69653118,  0.30346882],\n",
       "       [ 0.49195892,  0.50804108],\n",
       "       [ 0.5576726 ,  0.4423274 ],\n",
       "       [ 0.75517274,  0.24482726],\n",
       "       [ 0.2526509 ,  0.7473491 ],\n",
       "       [ 0.77647427,  0.22352573],\n",
       "       [ 0.67923286,  0.32076714],\n",
       "       [ 0.52026334,  0.47973666]])"
      ]
     },
     "execution_count": 52,
     "metadata": {},
     "output_type": "execute_result"
    }
   ],
   "source": [
    "# returns all probability estimates\n",
    "probs = model.predict_proba(X_test)\n",
    "probs"
   ]
  },
  {
   "cell_type": "code",
   "execution_count": 53,
   "metadata": {},
   "outputs": [
    {
     "data": {
      "image/png": "[encoded data removed]",
      "text/plain": [
       "<matplotlib.figure.Figure at 0x218eb893860>"
      ]
     },
     "metadata": {},
     "output_type": "display_data"
    }
   ],
   "source": [
    "\n",
    "plt.figure(figsize=(12,5))\n",
    "predictors = ('de', 'efgp', 'ftr', 'oe', 'orpct', 'topct', 'de_opp', 'efgp_opp', 'ftr_opp', 'oe_opp', 'orpct_opp', 'topct_opp')\n",
    "y_pos = np.arange(len(predictors))\n",
    "model_coeff = model.coef_.tolist()[0]\n",
    " \n",
    "plt.bar(y_pos, model_coeff, align='center', alpha=0.5, )\n",
    "plt.xticks(y_pos, predictors)\n",
    "plt.title('Model Coefficients')\n",
    " \n",
    "plt.show()"
   ]
  },
  {
   "cell_type": "code",
   "execution_count": 283,
   "metadata": {},
   "outputs": [
    {
     "name": "stdout",
     "output_type": "stream",
     "text": [
      "Best accuracy of the model: 0.64619369161\n",
      "Best C: 10\n"
     ]
    }
   ],
   "source": [
    "\n",
    "C = {'C':[0.1, 1, 10 ,100, 10000, 1000000, 10000000]}\n",
    "log_model = LogisticRegression(penalty='l2')\n",
    "clf = GridSearchCV(estimator=log_model, param_grid=C, cv=3, scoring='accuracy')\n",
    "\n",
    "#Train the model\n",
    "clf_train = clf.fit(X_train, y_train)\n",
    "\n",
    "#Predict\n",
    "clf_pred = clf.predict(X_test)\n",
    "\n",
    "#Best value of C\n",
    "print ('Best accuracy of the model:', clf.best_score_) \n",
    "print ('Best C:',clf.best_estimator_.C)"
   ]
  },
  {
   "cell_type": "code",
   "execution_count": 284,
   "metadata": {
    "collapsed": true
   },
   "outputs": [],
   "source": [
    "# probability estimates from cross validation model\n",
    "win_prob = pd.Series(clf.predict_proba(X_test)[:,1])"
   ]
  },
  {
   "cell_type": "code",
   "execution_count": 285,
   "metadata": {
    "collapsed": true
   },
   "outputs": [],
   "source": [
    "test_new = test.reset_index()"
   ]
  },
  {
   "cell_type": "code",
   "execution_count": 286,
   "metadata": {
    "collapsed": true
   },
   "outputs": [],
   "source": [
    "test_new['win_prob'] = win_prob"
   ]
  },
  {
   "cell_type": "code",
   "execution_count": 287,
   "metadata": {
    "collapsed": true
   },
   "outputs": [],
   "source": [
    "test_new = test_new[['team','opp','win_prob','result']]\n",
    "test_final = pd.merge(test_new,test_new,left_on = ['team','opp'], right_on = ['opp','team'],how = 'left', \n",
    "         suffixes = ('_team','_opp'))"
   ]
  },
  {
   "cell_type": "code",
   "execution_count": 288,
   "metadata": {},
   "outputs": [
    {
     "data": {
      "text/html": [
       "<div>\n",
       "<style>\n",
       "    .dataframe thead tr:only-child th {\n",
       "        text-align: right;\n",
       "    }\n",
       "\n",
       "    .dataframe thead th {\n",
       "        text-align: left;\n",
       "    }\n",
       "\n",
       "    .dataframe tbody tr th {\n",
       "        vertical-align: top;\n",
       "    }\n",
       "</style>\n",
       "<table border=\"1\" class=\"dataframe\">\n",
       "  <thead>\n",
       "    <tr style=\"text-align: right;\">\n",
       "      <th></th>\n",
       "      <th>team_team</th>\n",
       "      <th>opp_team</th>\n",
       "      <th>win_prob_team</th>\n",
       "      <th>result_team</th>\n",
       "      <th>team_opp</th>\n",
       "      <th>opp_opp</th>\n",
       "      <th>win_prob_opp</th>\n",
       "      <th>result_opp</th>\n",
       "    </tr>\n",
       "  </thead>\n",
       "  <tbody>\n",
       "    <tr>\n",
       "      <th>0</th>\n",
       "      <td>1195</td>\n",
       "      <td>1192</td>\n",
       "      <td>0.69112</td>\n",
       "      <td>1</td>\n",
       "      <td>1192</td>\n",
       "      <td>1195</td>\n",
       "      <td>0.308876</td>\n",
       "      <td>0</td>\n",
       "    </tr>\n",
       "    <tr>\n",
       "      <th>1</th>\n",
       "      <td>1195</td>\n",
       "      <td>1192</td>\n",
       "      <td>0.69112</td>\n",
       "      <td>1</td>\n",
       "      <td>1192</td>\n",
       "      <td>1195</td>\n",
       "      <td>0.308876</td>\n",
       "      <td>0</td>\n",
       "    </tr>\n",
       "    <tr>\n",
       "      <th>2</th>\n",
       "      <td>1195</td>\n",
       "      <td>1192</td>\n",
       "      <td>0.69112</td>\n",
       "      <td>1</td>\n",
       "      <td>1192</td>\n",
       "      <td>1195</td>\n",
       "      <td>0.308876</td>\n",
       "      <td>0</td>\n",
       "    </tr>\n",
       "    <tr>\n",
       "      <th>3</th>\n",
       "      <td>1195</td>\n",
       "      <td>1192</td>\n",
       "      <td>0.69112</td>\n",
       "      <td>1</td>\n",
       "      <td>1192</td>\n",
       "      <td>1195</td>\n",
       "      <td>0.308876</td>\n",
       "      <td>0</td>\n",
       "    </tr>\n",
       "    <tr>\n",
       "      <th>4</th>\n",
       "      <td>1195</td>\n",
       "      <td>1192</td>\n",
       "      <td>0.69112</td>\n",
       "      <td>1</td>\n",
       "      <td>1192</td>\n",
       "      <td>1195</td>\n",
       "      <td>0.308876</td>\n",
       "      <td>0</td>\n",
       "    </tr>\n",
       "  </tbody>\n",
       "</table>\n",
       "</div>"
      ],
      "text/plain": [
       "  team_team opp_team  win_prob_team  result_team team_opp opp_opp  \\\n",
       "0      1195     1192        0.69112            1     1192    1195   \n",
       "1      1195     1192        0.69112            1     1192    1195   \n",
       "2      1195     1192        0.69112            1     1192    1195   \n",
       "3      1195     1192        0.69112            1     1192    1195   \n",
       "4      1195     1192        0.69112            1     1192    1195   \n",
       "\n",
       "   win_prob_opp  result_opp  \n",
       "0      0.308876           0  \n",
       "1      0.308876           0  \n",
       "2      0.308876           0  \n",
       "3      0.308876           0  \n",
       "4      0.308876           0  "
      ]
     },
     "execution_count": 288,
     "metadata": {},
     "output_type": "execute_result"
    }
   ],
   "source": [
    "test_final[:5]"
   ]
  },
  {
   "cell_type": "code",
   "execution_count": 289,
   "metadata": {},
   "outputs": [
    {
     "name": "stderr",
     "output_type": "stream",
     "text": [
      "C:\\Users\\cslun\\Anaconda3\\lib\\site-packages\\ipykernel_launcher.py:2: SettingWithCopyWarning: \n",
      "A value is trying to be set on a copy of a slice from a DataFrame\n",
      "\n",
      "See the caveats in the documentation: http://pandas.pydata.org/pandas-docs/stable/indexing.html#indexing-view-versus-copy\n",
      "  \n"
     ]
    }
   ],
   "source": [
    "test_final['pred_result'] = 0.0\n",
    "test_final['pred_result'][test_final['win_prob_team'] > test_final['win_prob_opp']] = 1.0"
   ]
  },
  {
   "cell_type": "code",
   "execution_count": 290,
   "metadata": {
    "scrolled": false
   },
   "outputs": [
    {
     "data": {
      "text/plain": [
       "False    483521.0\n",
       "True     231421.0\n",
       "Name: check, dtype: float64"
      ]
     },
     "execution_count": 290,
     "metadata": {},
     "output_type": "execute_result"
    }
   ],
   "source": [
    "test_final['check'] = test_final['result_team']!=test_final['pred_result']\n",
    "test_final['check'].value_counts()/2"
   ]
  },
  {
   "cell_type": "markdown",
   "metadata": {},
   "source": [
    "# SVM 1"
   ]
  },
  {
   "cell_type": "code",
   "execution_count": 35,
   "metadata": {
    "collapsed": true
   },
   "outputs": [],
   "source": [
    "formula = 'result ~ 0 + de + efgp + ftr + oe + orpct + topct + de_opp + efgp_opp + ftr_opp + oe_opp + orpct_opp + topct_opp'"
   ]
  },
  {
   "cell_type": "code",
   "execution_count": 36,
   "metadata": {
    "collapsed": true
   },
   "outputs": [],
   "source": [
    "Y_train, X_train = dmatrices(formula, train, return_type='dataframe')\n",
    "y_train = Y_train['result'].values\n",
    "\n",
    "\n",
    "Y_test, X_test = dmatrices(formula, test, return_type='dataframe')\n",
    "y_test = Y_test['result'].values"
   ]
  },
  {
   "cell_type": "code",
   "execution_count": 37,
   "metadata": {
    "collapsed": true
   },
   "outputs": [],
   "source": [
    "model = SVC(kernel = 'linear')\n",
    "result = model.fit(X_train, y_train)"
   ]
  },
  {
   "cell_type": "code",
   "execution_count": 38,
   "metadata": {},
   "outputs": [
    {
     "name": "stdout",
     "output_type": "stream",
     "text": [
      "0.672373081464\n"
     ]
    }
   ],
   "source": [
    "prediction_train = model.predict(X_train)\n",
    "print (metrics.accuracy_score(y_train, prediction_train))"
   ]
  },
  {
   "cell_type": "code",
   "execution_count": 39,
   "metadata": {},
   "outputs": [
    {
     "name": "stdout",
     "output_type": "stream",
     "text": [
      "0.686567164179\n"
     ]
    }
   ],
   "source": [
    "prediction = model.predict(X_test)\n",
    "print (metrics.accuracy_score(y_test, prediction))"
   ]
  },
  {
   "cell_type": "code",
   "execution_count": 40,
   "metadata": {},
   "outputs": [
    {
     "name": "stdout",
     "output_type": "stream",
     "text": [
      "Best accuracy of the model: 0.681227863046\n",
      "Best C: 10000\n"
     ]
    }
   ],
   "source": [
    "\n",
    "C = {'C':[0.1, 1, 10 ,100, 10000, 1000000, 10000000]}\n",
    "log_model = LogisticRegression(penalty='l2')\n",
    "clf = GridSearchCV(estimator=log_model, param_grid=C, cv=3, scoring='accuracy')\n",
    "\n",
    "#Train the model\n",
    "clf_train = clf.fit(X_train, y_train)\n",
    "\n",
    "#Predict\n",
    "clf_pred = clf.predict(X_test)\n",
    "\n",
    "#Best value of C\n",
    "print ('Best accuracy of the model:', clf.best_score_) \n",
    "print ('Best C:',clf.best_estimator_.C)"
   ]
  },
  {
   "cell_type": "code",
   "execution_count": 35,
   "metadata": {
    "collapsed": true
   },
   "outputs": [],
   "source": [
    "# probability estimates from cross validation model\n",
    "win_prob = pd.Series(clf.predict_proba(X_test)[:,1])"
   ]
  },
  {
   "cell_type": "code",
   "execution_count": 36,
   "metadata": {
    "collapsed": true
   },
   "outputs": [],
   "source": [
    "test_new = test.reset_index()"
   ]
  },
  {
   "cell_type": "code",
   "execution_count": 37,
   "metadata": {
    "collapsed": true
   },
   "outputs": [],
   "source": [
    "test_new['win_prob'] = win_prob"
   ]
  },
  {
   "cell_type": "code",
   "execution_count": 38,
   "metadata": {
    "collapsed": true
   },
   "outputs": [],
   "source": [
    "test_new = test_new[['team','opp','win_prob','result']]\n",
    "test_final = pd.merge(test_new,test_new,left_on = ['team','opp'], right_on = ['opp','team'],how = 'left', \n",
    "         suffixes = ('_team','_opp'))"
   ]
  },
  {
   "cell_type": "code",
   "execution_count": 39,
   "metadata": {},
   "outputs": [
    {
     "data": {
      "text/html": [
       "<div>\n",
       "<style>\n",
       "    .dataframe thead tr:only-child th {\n",
       "        text-align: right;\n",
       "    }\n",
       "\n",
       "    .dataframe thead th {\n",
       "        text-align: left;\n",
       "    }\n",
       "\n",
       "    .dataframe tbody tr th {\n",
       "        vertical-align: top;\n",
       "    }\n",
       "</style>\n",
       "<table border=\"1\" class=\"dataframe\">\n",
       "  <thead>\n",
       "    <tr style=\"text-align: right;\">\n",
       "      <th></th>\n",
       "      <th>team_team</th>\n",
       "      <th>opp_team</th>\n",
       "      <th>win_prob_team</th>\n",
       "      <th>result_team</th>\n",
       "      <th>team_opp</th>\n",
       "      <th>opp_opp</th>\n",
       "      <th>win_prob_opp</th>\n",
       "      <th>result_opp</th>\n",
       "    </tr>\n",
       "  </thead>\n",
       "  <tbody>\n",
       "    <tr>\n",
       "      <th>0</th>\n",
       "      <td>1195</td>\n",
       "      <td>1192</td>\n",
       "      <td>0.720273</td>\n",
       "      <td>1</td>\n",
       "      <td>1192</td>\n",
       "      <td>1195</td>\n",
       "      <td>0.279721</td>\n",
       "      <td>0</td>\n",
       "    </tr>\n",
       "    <tr>\n",
       "      <th>1</th>\n",
       "      <td>1455</td>\n",
       "      <td>1435</td>\n",
       "      <td>0.764622</td>\n",
       "      <td>1</td>\n",
       "      <td>1435</td>\n",
       "      <td>1455</td>\n",
       "      <td>0.235255</td>\n",
       "      <td>0</td>\n",
       "    </tr>\n",
       "    <tr>\n",
       "      <th>2</th>\n",
       "      <td>1221</td>\n",
       "      <td>1380</td>\n",
       "      <td>0.240624</td>\n",
       "      <td>1</td>\n",
       "      <td>1380</td>\n",
       "      <td>1221</td>\n",
       "      <td>0.759330</td>\n",
       "      <td>0</td>\n",
       "    </tr>\n",
       "    <tr>\n",
       "      <th>3</th>\n",
       "      <td>1276</td>\n",
       "      <td>1409</td>\n",
       "      <td>0.603964</td>\n",
       "      <td>1</td>\n",
       "      <td>1409</td>\n",
       "      <td>1276</td>\n",
       "      <td>0.396004</td>\n",
       "      <td>0</td>\n",
       "    </tr>\n",
       "    <tr>\n",
       "      <th>4</th>\n",
       "      <td>1114</td>\n",
       "      <td>1345</td>\n",
       "      <td>0.341908</td>\n",
       "      <td>1</td>\n",
       "      <td>1345</td>\n",
       "      <td>1114</td>\n",
       "      <td>0.658023</td>\n",
       "      <td>0</td>\n",
       "    </tr>\n",
       "  </tbody>\n",
       "</table>\n",
       "</div>"
      ],
      "text/plain": [
       "  team_team opp_team  win_prob_team  result_team team_opp opp_opp  \\\n",
       "0      1195     1192       0.720273            1     1192    1195   \n",
       "1      1455     1435       0.764622            1     1435    1455   \n",
       "2      1221     1380       0.240624            1     1380    1221   \n",
       "3      1276     1409       0.603964            1     1409    1276   \n",
       "4      1114     1345       0.341908            1     1345    1114   \n",
       "\n",
       "   win_prob_opp  result_opp  \n",
       "0      0.279721           0  \n",
       "1      0.235255           0  \n",
       "2      0.759330           0  \n",
       "3      0.396004           0  \n",
       "4      0.658023           0  "
      ]
     },
     "execution_count": 39,
     "metadata": {},
     "output_type": "execute_result"
    }
   ],
   "source": [
    "test_final[:5]"
   ]
  },
  {
   "cell_type": "code",
   "execution_count": 40,
   "metadata": {},
   "outputs": [
    {
     "name": "stderr",
     "output_type": "stream",
     "text": [
      "C:\\Users\\cslun\\Anaconda3\\lib\\site-packages\\ipykernel_launcher.py:2: SettingWithCopyWarning: \n",
      "A value is trying to be set on a copy of a slice from a DataFrame\n",
      "\n",
      "See the caveats in the documentation: http://pandas.pydata.org/pandas-docs/stable/indexing.html#indexing-view-versus-copy\n",
      "  \n"
     ]
    }
   ],
   "source": [
    "test_final['pred_result'] = 0.0\n",
    "test_final['pred_result'][test_final['win_prob_team'] > test_final['win_prob_opp']] = 1.0"
   ]
  },
  {
   "cell_type": "code",
   "execution_count": 41,
   "metadata": {
    "scrolled": false
   },
   "outputs": [
    {
     "data": {
      "text/plain": [
       "False    47.0\n",
       "True     20.0\n",
       "Name: check, dtype: float64"
      ]
     },
     "execution_count": 41,
     "metadata": {},
     "output_type": "execute_result"
    }
   ],
   "source": [
    "test_final['check'] = test_final['result_team']!=test_final['pred_result']\n",
    "test_final['check'].value_counts()/2"
   ]
  },
  {
   "cell_type": "markdown",
   "metadata": {},
   "source": [
    "## Random Forest 1"
   ]
  },
  {
   "cell_type": "code",
   "execution_count": 393,
   "metadata": {
    "collapsed": true
   },
   "outputs": [],
   "source": [
    "formula = 'result ~ 0 + de + efgp + ftr + oe + orpct + topct + de_opp + efgp_opp + ftr_opp + oe_opp + orpct_opp + topct_opp'"
   ]
  },
  {
   "cell_type": "code",
   "execution_count": 394,
   "metadata": {
    "collapsed": true
   },
   "outputs": [],
   "source": [
    "Y_train, X_train = dmatrices(formula, train, return_type='dataframe')\n",
    "y_train = Y_train['result'].values\n",
    "\n",
    "\n",
    "Y_test, X_test = dmatrices(formula, test, return_type='dataframe')\n",
    "y_test = Y_test['result'].values"
   ]
  },
  {
   "cell_type": "code",
   "execution_count": 418,
   "metadata": {
    "collapsed": true
   },
   "outputs": [],
   "source": [
    "model = RandomForestClassifier(max_depth = 4, n_estimators = 300)\n",
    "result = model.fit(X_train, y_train)"
   ]
  },
  {
   "cell_type": "code",
   "execution_count": 419,
   "metadata": {},
   "outputs": [
    {
     "name": "stdout",
     "output_type": "stream",
     "text": [
      "0.741440377804\n"
     ]
    }
   ],
   "source": [
    "prediction_train = model.predict(X_train)\n",
    "print (metrics.accuracy_score(y_train, prediction_train))"
   ]
  },
  {
   "cell_type": "code",
   "execution_count": 420,
   "metadata": {},
   "outputs": [
    {
     "name": "stdout",
     "output_type": "stream",
     "text": [
      "0.626865671642\n"
     ]
    }
   ],
   "source": [
    "prediction = model.predict(X_test)\n",
    "print (metrics.accuracy_score(y_test, prediction))"
   ]
  },
  {
   "cell_type": "code",
   "execution_count": 307,
   "metadata": {
    "collapsed": true
   },
   "outputs": [
    {
     "data": {
      "text/plain": [
       "array([[ 0.5,  0.5],\n",
       "       [ 0.2,  0.8],\n",
       "       [ 0.5,  0.5],\n",
       "       [ 0.5,  0.5],\n",
       "       [ 0.7,  0.3],\n",
       "       [ 0.4,  0.6],\n",
       "       [ 0.4,  0.6],\n",
       "       [ 0.4,  0.6],\n",
       "       [ 0.1,  0.9],\n",
       "       [ 0.3,  0.7],\n",
       "       [ 0.7,  0.3],\n",
       "       [ 0.4,  0.6],\n",
       "       [ 0.5,  0.5],\n",
       "       [ 0.5,  0.5],\n",
       "       [ 0.2,  0.8],\n",
       "       [ 0.7,  0.3],\n",
       "       [ 0.6,  0.4],\n",
       "       [ 0.3,  0.7],\n",
       "       [ 0.6,  0.4],\n",
       "       [ 0.3,  0.7],\n",
       "       [ 0.5,  0.5],\n",
       "       [ 0.2,  0.8],\n",
       "       [ 0.7,  0.3],\n",
       "       [ 0.8,  0.2],\n",
       "       [ 0.7,  0.3],\n",
       "       [ 0.6,  0.4],\n",
       "       [ 0.6,  0.4],\n",
       "       [ 0.3,  0.7],\n",
       "       [ 0.8,  0.2],\n",
       "       [ 0.4,  0.6],\n",
       "       [ 0.7,  0.3],\n",
       "       [ 0. ,  1. ],\n",
       "       [ 0.4,  0.6],\n",
       "       [ 0.3,  0.7],\n",
       "       [ 0.8,  0.2],\n",
       "       [ 0.4,  0.6],\n",
       "       [ 0.7,  0.3],\n",
       "       [ 0. ,  1. ],\n",
       "       [ 0.4,  0.6],\n",
       "       [ 0.5,  0.5],\n",
       "       [ 0.3,  0.7],\n",
       "       [ 0.5,  0.5],\n",
       "       [ 0.3,  0.7],\n",
       "       [ 0.3,  0.7],\n",
       "       [ 0.8,  0.2],\n",
       "       [ 0.7,  0.3],\n",
       "       [ 0.5,  0.5],\n",
       "       [ 0.5,  0.5],\n",
       "       [ 0.7,  0.3],\n",
       "       [ 0.2,  0.8],\n",
       "       [ 0.5,  0.5],\n",
       "       [ 0.8,  0.2],\n",
       "       [ 0.4,  0.6],\n",
       "       [ 0.7,  0.3],\n",
       "       [ 0.7,  0.3],\n",
       "       [ 0.5,  0.5],\n",
       "       [ 0.6,  0.4],\n",
       "       [ 0.4,  0.6],\n",
       "       [ 0.8,  0.2],\n",
       "       [ 0.3,  0.7],\n",
       "       [ 0.6,  0.4],\n",
       "       [ 0.5,  0.5],\n",
       "       [ 0.5,  0.5],\n",
       "       [ 0.9,  0.1],\n",
       "       [ 0.3,  0.7],\n",
       "       [ 0.7,  0.3],\n",
       "       [ 0.5,  0.5],\n",
       "       [ 0.8,  0.2],\n",
       "       [ 0.4,  0.6],\n",
       "       [ 0.6,  0.4],\n",
       "       [ 0.7,  0.3],\n",
       "       [ 0.5,  0.5],\n",
       "       [ 0.7,  0.3],\n",
       "       [ 0.4,  0.6],\n",
       "       [ 0.8,  0.2],\n",
       "       [ 0.6,  0.4],\n",
       "       [ 0.8,  0.2],\n",
       "       [ 0.6,  0.4],\n",
       "       [ 0.5,  0.5],\n",
       "       [ 0.7,  0.3],\n",
       "       [ 0.7,  0.3],\n",
       "       [ 0.6,  0.4],\n",
       "       [ 0.3,  0.7],\n",
       "       [ 0.6,  0.4],\n",
       "       [ 0.6,  0.4],\n",
       "       [ 0.3,  0.7],\n",
       "       [ 0.6,  0.4],\n",
       "       [ 0.4,  0.6],\n",
       "       [ 0.7,  0.3],\n",
       "       [ 0.4,  0.6],\n",
       "       [ 0.2,  0.8],\n",
       "       [ 0.3,  0.7],\n",
       "       [ 0.5,  0.5],\n",
       "       [ 0.7,  0.3],\n",
       "       [ 0.7,  0.3],\n",
       "       [ 0.5,  0.5],\n",
       "       [ 0.7,  0.3],\n",
       "       [ 0.5,  0.5],\n",
       "       [ 0.9,  0.1],\n",
       "       [ 0.8,  0.2],\n",
       "       [ 0.5,  0.5],\n",
       "       [ 0.3,  0.7],\n",
       "       [ 0.7,  0.3],\n",
       "       [ 0.5,  0.5],\n",
       "       [ 0.4,  0.6],\n",
       "       [ 0.4,  0.6],\n",
       "       [ 0.2,  0.8],\n",
       "       [ 0.7,  0.3],\n",
       "       [ 0.3,  0.7],\n",
       "       [ 0.4,  0.6],\n",
       "       [ 0.8,  0.2],\n",
       "       [ 0.6,  0.4],\n",
       "       [ 0.7,  0.3],\n",
       "       [ 0.3,  0.7],\n",
       "       [ 0.5,  0.5],\n",
       "       [ 0.3,  0.7],\n",
       "       [ 0.6,  0.4],\n",
       "       [ 0.6,  0.4],\n",
       "       [ 0.3,  0.7],\n",
       "       [ 0.8,  0.2],\n",
       "       [ 0.4,  0.6],\n",
       "       [ 0.6,  0.4],\n",
       "       [ 0.6,  0.4],\n",
       "       [ 0.5,  0.5],\n",
       "       [ 0.7,  0.3],\n",
       "       [ 0.1,  0.9],\n",
       "       [ 0.7,  0.3],\n",
       "       [ 0.6,  0.4],\n",
       "       [ 0.2,  0.8],\n",
       "       [ 0.7,  0.3],\n",
       "       [ 0.4,  0.6],\n",
       "       [ 0.8,  0.2],\n",
       "       [ 0.5,  0.5],\n",
       "       [ 0.4,  0.6]])"
      ]
     },
     "execution_count": 307,
     "metadata": {},
     "output_type": "execute_result"
    }
   ],
   "source": [
    "# returns all probability estimates\n",
    "probs = model.predict_proba(X_test)\n",
    "probs"
   ]
  },
  {
   "cell_type": "code",
   "execution_count": 308,
   "metadata": {
    "scrolled": true
   },
   "outputs": [
    {
     "name": "stdout",
     "output_type": "stream",
     "text": [
      "Feature ranking:\n",
      "1. feature 6 (0.108210)\n",
      "2. feature 4 (0.093566)\n",
      "3. feature 10 (0.092847)\n",
      "4. feature 0 (0.090329)\n",
      "5. feature 9 (0.085202)\n",
      "6. feature 3 (0.081519)\n",
      "7. feature 7 (0.080942)\n",
      "8. feature 5 (0.080672)\n",
      "9. feature 11 (0.076881)\n",
      "10. feature 1 (0.075932)\n",
      "11. feature 2 (0.068479)\n",
      "12. feature 8 (0.065422)\n"
     ]
    },
    {
     "data": {
      "image/png": "[encoded data removed]",
      "text/plain": [
       "<matplotlib.figure.Figure at 0x263ac89fd68>"
      ]
     },
     "metadata": {},
     "output_type": "display_data"
    }
   ],
   "source": [
    "importances = model.feature_importances_\n",
    "std = np.std([tree.feature_importances_ for tree in model.estimators_],\n",
    "             axis=0)\n",
    "indices = np.argsort(importances)[::-1]\n",
    "\n",
    "# Print the feature ranking\n",
    "print(\"Feature ranking:\")\n",
    "\n",
    "for f in range(X_train.shape[1]):\n",
    "    print(\"%d. feature %d (%f)\" % (f + 1, indices[f], importances[indices[f]]))\n",
    "\n",
    "# Plot the feature importances of the forest\n",
    "plt.figure()\n",
    "plt.title(\"Feature importances\")\n",
    "plt.bar(range(X_train.shape[1]), importances[indices],\n",
    "       color=\"r\", yerr=std[indices], align=\"center\")\n",
    "plt.xticks(range(X_train.shape[1]), indices)\n",
    "plt.xlim([-1, X_train.shape[1]])\n",
    "plt.show()"
   ]
  },
  {
   "cell_type": "markdown",
   "metadata": {},
   "source": [
    "# XGBoost 1"
   ]
  },
  {
   "cell_type": "code",
   "execution_count": 56,
   "metadata": {
    "collapsed": true
   },
   "outputs": [],
   "source": [
    "formula = 'result ~ 0 + de + efgp + ftr + oe + orpct + topct + de_opp + efgp_opp + ftr_opp + oe_opp + orpct_opp + topct_opp'"
   ]
  },
  {
   "cell_type": "code",
   "execution_count": 57,
   "metadata": {
    "collapsed": true
   },
   "outputs": [],
   "source": [
    "Y_train, X_train = dmatrices(formula, train, return_type='dataframe')\n",
    "y_train = Y_train['result'].values\n",
    "\n",
    "\n",
    "Y_test, X_test = dmatrices(formula, test, return_type='dataframe')\n",
    "y_test = Y_test['result'].values"
   ]
  },
  {
   "cell_type": "code",
   "execution_count": 58,
   "metadata": {
    "collapsed": true
   },
   "outputs": [],
   "source": [
    "model = XGBClassifier(max_depth = 4, n_estimators = 300)\n",
    "result = model.fit(X_train, y_train)"
   ]
  },
  {
   "cell_type": "code",
   "execution_count": 59,
   "metadata": {},
   "outputs": [
    {
     "name": "stdout",
     "output_type": "stream",
     "text": [
      "0.979929161747\n"
     ]
    }
   ],
   "source": [
    "prediction_train = model.predict(X_train)\n",
    "print (metrics.accuracy_score(y_train, prediction_train))"
   ]
  },
  {
   "cell_type": "code",
   "execution_count": 60,
   "metadata": {},
   "outputs": [
    {
     "name": "stdout",
     "output_type": "stream",
     "text": [
      "0.664179104478\n"
     ]
    }
   ],
   "source": [
    "prediction = model.predict(X_test)\n",
    "print (metrics.accuracy_score(y_test, prediction))"
   ]
  },
  {
   "cell_type": "code",
   "execution_count": 47,
   "metadata": {
    "collapsed": true
   },
   "outputs": [
    {
     "data": {
      "text/plain": [
       "array([[ 0.25430006,  0.74569994],\n",
       "       [ 0.13790077,  0.86209923],\n",
       "       [ 0.60573614,  0.39426386],\n",
       "       [ 0.28064609,  0.71935391],\n",
       "       [ 0.63583964,  0.36416036],\n",
       "       [ 0.33245784,  0.66754216],\n",
       "       [ 0.46935654,  0.53064346],\n",
       "       [ 0.39760715,  0.60239285],\n",
       "       [ 0.27808958,  0.72191042],\n",
       "       [ 0.38495606,  0.61504394],\n",
       "       [ 0.62855232,  0.37144771],\n",
       "       [ 0.0764159 ,  0.9235841 ],\n",
       "       [ 0.39326841,  0.60673159],\n",
       "       [ 0.29957044,  0.70042956],\n",
       "       [ 0.29735494,  0.70264506],\n",
       "       [ 0.54502356,  0.45497644],\n",
       "       [ 0.36819619,  0.63180381],\n",
       "       [ 0.36995494,  0.63004506],\n",
       "       [ 0.41183251,  0.58816749],\n",
       "       [ 0.37449491,  0.62550509],\n",
       "       [ 0.53771305,  0.46228698],\n",
       "       [ 0.34417099,  0.65582901],\n",
       "       [ 0.48921084,  0.51078916],\n",
       "       [ 0.82122833,  0.17877167],\n",
       "       [ 0.57421172,  0.42578828],\n",
       "       [ 0.29243827,  0.70756173],\n",
       "       [ 0.61317807,  0.38682193],\n",
       "       [ 0.14510393,  0.85489607],\n",
       "       [ 0.72336143,  0.27663857],\n",
       "       [ 0.59453577,  0.40546423],\n",
       "       [ 0.42170107,  0.57829893],\n",
       "       [ 0.17032707,  0.82967293],\n",
       "       [ 0.25116104,  0.74883896],\n",
       "       [ 0.3248328 ,  0.6751672 ],\n",
       "       [ 0.69248211,  0.30751786],\n",
       "       [ 0.24920058,  0.75079942],\n",
       "       [ 0.49437881,  0.50562119],\n",
       "       [ 0.32000506,  0.67999494],\n",
       "       [ 0.60648286,  0.39351717],\n",
       "       [ 0.77026498,  0.22973502],\n",
       "       [ 0.24037975,  0.75962025],\n",
       "       [ 0.68000245,  0.31999752],\n",
       "       [ 0.25701767,  0.74298233],\n",
       "       [ 0.4845553 ,  0.5154447 ],\n",
       "       [ 0.46886742,  0.53113258],\n",
       "       [ 0.52684581,  0.47315422],\n",
       "       [ 0.57886857,  0.42113143],\n",
       "       [ 0.57708466,  0.42291534],\n",
       "       [ 0.33778787,  0.66221213],\n",
       "       [ 0.18813086,  0.81186914],\n",
       "       [ 0.48853248,  0.51146752],\n",
       "       [ 0.4811157 ,  0.5188843 ],\n",
       "       [ 0.33370352,  0.66629648],\n",
       "       [ 0.62325346,  0.37674654],\n",
       "       [ 0.53463662,  0.46536338],\n",
       "       [ 0.43674517,  0.56325483],\n",
       "       [ 0.38575423,  0.61424577],\n",
       "       [ 0.27171826,  0.72828174],\n",
       "       [ 0.65462965,  0.34537035],\n",
       "       [ 0.15384746,  0.84615254],\n",
       "       [ 0.54121721,  0.45878282],\n",
       "       [ 0.64872241,  0.35127756],\n",
       "       [ 0.24004817,  0.75995183],\n",
       "       [ 0.59368467,  0.40631536],\n",
       "       [ 0.25341249,  0.74658751],\n",
       "       [ 0.476556  ,  0.523444  ],\n",
       "       [ 0.69500428,  0.30499572],\n",
       "       [ 0.75841075,  0.24158923],\n",
       "       [ 0.8728475 ,  0.12715249],\n",
       "       [ 0.40574098,  0.59425902],\n",
       "       [ 0.60171437,  0.39828566],\n",
       "       [ 0.39971191,  0.60028809],\n",
       "       [ 0.6165396 ,  0.38346037],\n",
       "       [ 0.59746933,  0.40253064],\n",
       "       [ 0.56169385,  0.43830615],\n",
       "       [ 0.6995163 ,  0.3004837 ],\n",
       "       [ 0.65843874,  0.34156126],\n",
       "       [ 0.33207542,  0.66792458],\n",
       "       [ 0.89433986,  0.10566012],\n",
       "       [ 0.62510037,  0.3748996 ],\n",
       "       [ 0.72818708,  0.27181289],\n",
       "       [ 0.77651119,  0.22348879],\n",
       "       [ 0.4994294 ,  0.5005706 ],\n",
       "       [ 0.60053259,  0.39946741],\n",
       "       [ 0.71711761,  0.28288239],\n",
       "       [ 0.53810263,  0.46189737],\n",
       "       [ 0.59316313,  0.4068369 ],\n",
       "       [ 0.4420985 ,  0.5579015 ],\n",
       "       [ 0.5658654 ,  0.43413463],\n",
       "       [ 0.52348757,  0.4765124 ],\n",
       "       [ 0.17544574,  0.82455426],\n",
       "       [ 0.3641541 ,  0.6358459 ],\n",
       "       [ 0.56419218,  0.43580779],\n",
       "       [ 0.42658895,  0.57341105],\n",
       "       [ 0.8377499 ,  0.1622501 ],\n",
       "       [ 0.2922188 ,  0.7077812 ],\n",
       "       [ 0.47796434,  0.52203566],\n",
       "       [ 0.54270387,  0.45729616],\n",
       "       [ 0.78492475,  0.21507522],\n",
       "       [ 0.68428612,  0.31571391],\n",
       "       [ 0.61508858,  0.38491139],\n",
       "       [ 0.32427508,  0.67572492],\n",
       "       [ 0.6397981 ,  0.3602019 ],\n",
       "       [ 0.4026745 ,  0.5973255 ],\n",
       "       [ 0.67156017,  0.32843986],\n",
       "       [ 0.44596344,  0.55403656],\n",
       "       [ 0.27568585,  0.72431415],\n",
       "       [ 0.73518777,  0.2648122 ],\n",
       "       [ 0.29216731,  0.70783269],\n",
       "       [ 0.81753337,  0.18246663],\n",
       "       [ 0.56860721,  0.43139276],\n",
       "       [ 0.52042103,  0.47957894],\n",
       "       [ 0.48892462,  0.51107538],\n",
       "       [ 0.42413771,  0.57586229],\n",
       "       [ 0.43722659,  0.56277341],\n",
       "       [ 0.61712587,  0.3828741 ],\n",
       "       [ 0.80138129,  0.19861871],\n",
       "       [ 0.62196797,  0.37803203],\n",
       "       [ 0.48056352,  0.51943648],\n",
       "       [ 0.63174403,  0.36825594],\n",
       "       [ 0.3655737 ,  0.6344263 ],\n",
       "       [ 0.47217429,  0.52782571],\n",
       "       [ 0.56335485,  0.43664518],\n",
       "       [ 0.63380182,  0.36619821],\n",
       "       [ 0.66084719,  0.33915284],\n",
       "       [ 0.3089208 ,  0.6910792 ],\n",
       "       [ 0.8838948 ,  0.1161052 ],\n",
       "       [ 0.48245567,  0.51754433],\n",
       "       [ 0.34842336,  0.65157664],\n",
       "       [ 0.69835806,  0.30164194],\n",
       "       [ 0.41780519,  0.58219481],\n",
       "       [ 0.73834038,  0.26165962],\n",
       "       [ 0.55120265,  0.44879737],\n",
       "       [ 0.40557402,  0.59442598]], dtype=float32)"
      ]
     },
     "execution_count": 47,
     "metadata": {},
     "output_type": "execute_result"
    }
   ],
   "source": [
    "# returns all probability estimates\n",
    "probs = model.predict_proba(X_test)\n",
    "probs"
   ]
  },
  {
   "cell_type": "code",
   "execution_count": 308,
   "metadata": {
    "collapsed": true
   },
   "outputs": [
    {
     "name": "stdout",
     "output_type": "stream",
     "text": [
      "Feature ranking:\n",
      "1. feature 6 (0.108210)\n",
      "2. feature 4 (0.093566)\n",
      "3. feature 10 (0.092847)\n",
      "4. feature 0 (0.090329)\n",
      "5. feature 9 (0.085202)\n",
      "6. feature 3 (0.081519)\n",
      "7. feature 7 (0.080942)\n",
      "8. feature 5 (0.080672)\n",
      "9. feature 11 (0.076881)\n",
      "10. feature 1 (0.075932)\n",
      "11. feature 2 (0.068479)\n",
      "12. feature 8 (0.065422)\n"
     ]
    },
    {
     "data": {
      "image/png": "[encoded data removed]",
      "text/plain": [
       "<matplotlib.figure.Figure at 0x263ac89fd68>"
      ]
     },
     "metadata": {},
     "output_type": "display_data"
    }
   ],
   "source": [
    "importances = model.feature_importances_\n",
    "std = np.std([tree.feature_importances_ for tree in model.estimators_],\n",
    "             axis=0)\n",
    "indices = np.argsort(importances)[::-1]\n",
    "\n",
    "# Print the feature ranking\n",
    "print(\"Feature ranking:\")\n",
    "\n",
    "for f in range(X_train.shape[1]):\n",
    "    print(\"%d. feature %d (%f)\" % (f + 1, indices[f], importances[indices[f]]))\n",
    "\n",
    "# Plot the feature importances of the forest\n",
    "plt.figure()\n",
    "plt.title(\"Feature importances\")\n",
    "plt.bar(range(X_train.shape[1]), importances[indices],\n",
    "       color=\"r\", yerr=std[indices], align=\"center\")\n",
    "plt.xticks(range(X_train.shape[1]), indices)\n",
    "plt.xlim([-1, X_train.shape[1]])\n",
    "plt.show()"
   ]
  },
  {
   "cell_type": "markdown",
   "metadata": {},
   "source": [
    "# Bagging 1"
   ]
  },
  {
   "cell_type": "code",
   "execution_count": 89,
   "metadata": {
    "collapsed": true
   },
   "outputs": [],
   "source": [
    "formula = 'result ~ 0 + de + efgp + ftr + oe + orpct + topct + de_opp + efgp_opp + ftr_opp + oe_opp + orpct_opp + topct_opp'"
   ]
  },
  {
   "cell_type": "code",
   "execution_count": 90,
   "metadata": {
    "collapsed": true
   },
   "outputs": [],
   "source": [
    "Y_train, X_train = dmatrices(formula, train, return_type='dataframe')\n",
    "y_train = Y_train['result'].values\n",
    "\n",
    "\n",
    "Y_test, X_test = dmatrices(formula, test, return_type='dataframe')\n",
    "y_test = Y_test['result'].values"
   ]
  },
  {
   "cell_type": "code",
   "execution_count": 112,
   "metadata": {
    "collapsed": true
   },
   "outputs": [],
   "source": [
    "model = BaggingClassifier(n_estimators = 30)\n",
    "result = model.fit(X_train, y_train)"
   ]
  },
  {
   "cell_type": "code",
   "execution_count": 113,
   "metadata": {},
   "outputs": [
    {
     "name": "stdout",
     "output_type": "stream",
     "text": [
      "0.998819362456\n"
     ]
    }
   ],
   "source": [
    "prediction_train = model.predict(X_train)\n",
    "print (metrics.accuracy_score(y_train, prediction_train))"
   ]
  },
  {
   "cell_type": "code",
   "execution_count": 114,
   "metadata": {},
   "outputs": [
    {
     "name": "stdout",
     "output_type": "stream",
     "text": [
      "0.65671641791\n"
     ]
    }
   ],
   "source": [
    "prediction = model.predict(X_test)\n",
    "print (metrics.accuracy_score(y_test, prediction))"
   ]
  },
  {
   "cell_type": "code",
   "execution_count": 88,
   "metadata": {},
   "outputs": [
    {
     "data": {
      "text/plain": [
       "array([[ 0.45,  0.55],\n",
       "       [ 0.2 ,  0.8 ],\n",
       "       [ 0.55,  0.45],\n",
       "       [ 0.45,  0.55],\n",
       "       [ 0.2 ,  0.8 ],\n",
       "       [ 0.3 ,  0.7 ],\n",
       "       [ 0.55,  0.45],\n",
       "       [ 0.55,  0.45],\n",
       "       [ 0.3 ,  0.7 ],\n",
       "       [ 0.3 ,  0.7 ],\n",
       "       [ 0.6 ,  0.4 ],\n",
       "       [ 0.05,  0.95],\n",
       "       [ 0.2 ,  0.8 ],\n",
       "       [ 0.3 ,  0.7 ],\n",
       "       [ 0.3 ,  0.7 ],\n",
       "       [ 0.65,  0.35],\n",
       "       [ 0.4 ,  0.6 ],\n",
       "       [ 0.1 ,  0.9 ],\n",
       "       [ 0.45,  0.55],\n",
       "       [ 0.05,  0.95],\n",
       "       [ 0.55,  0.45],\n",
       "       [ 0.25,  0.75],\n",
       "       [ 0.35,  0.65],\n",
       "       [ 0.85,  0.15],\n",
       "       [ 0.6 ,  0.4 ],\n",
       "       [ 0.4 ,  0.6 ],\n",
       "       [ 0.5 ,  0.5 ],\n",
       "       [ 0.35,  0.65],\n",
       "       [ 0.55,  0.45],\n",
       "       [ 0.65,  0.35],\n",
       "       [ 0.35,  0.65],\n",
       "       [ 0.25,  0.75],\n",
       "       [ 0.25,  0.75],\n",
       "       [ 0.25,  0.75],\n",
       "       [ 0.7 ,  0.3 ],\n",
       "       [ 0.15,  0.85],\n",
       "       [ 0.45,  0.55],\n",
       "       [ 0.55,  0.45],\n",
       "       [ 0.35,  0.65],\n",
       "       [ 0.75,  0.25],\n",
       "       [ 0.45,  0.55],\n",
       "       [ 0.75,  0.25],\n",
       "       [ 0.4 ,  0.6 ],\n",
       "       [ 0.35,  0.65],\n",
       "       [ 0.6 ,  0.4 ],\n",
       "       [ 0.5 ,  0.5 ],\n",
       "       [ 0.4 ,  0.6 ],\n",
       "       [ 0.5 ,  0.5 ],\n",
       "       [ 0.6 ,  0.4 ],\n",
       "       [ 0.25,  0.75],\n",
       "       [ 0.4 ,  0.6 ],\n",
       "       [ 0.55,  0.45],\n",
       "       [ 0.4 ,  0.6 ],\n",
       "       [ 0.55,  0.45],\n",
       "       [ 0.45,  0.55],\n",
       "       [ 0.45,  0.55],\n",
       "       [ 0.35,  0.65],\n",
       "       [ 0.3 ,  0.7 ],\n",
       "       [ 0.75,  0.25],\n",
       "       [ 0.15,  0.85],\n",
       "       [ 0.35,  0.65],\n",
       "       [ 0.6 ,  0.4 ],\n",
       "       [ 0.45,  0.55],\n",
       "       [ 0.7 ,  0.3 ],\n",
       "       [ 0.2 ,  0.8 ],\n",
       "       [ 0.3 ,  0.7 ],\n",
       "       [ 0.65,  0.35],\n",
       "       [ 0.55,  0.45],\n",
       "       [ 0.75,  0.25],\n",
       "       [ 0.4 ,  0.6 ],\n",
       "       [ 0.8 ,  0.2 ],\n",
       "       [ 0.35,  0.65],\n",
       "       [ 0.8 ,  0.2 ],\n",
       "       [ 0.7 ,  0.3 ],\n",
       "       [ 0.5 ,  0.5 ],\n",
       "       [ 0.75,  0.25],\n",
       "       [ 0.7 ,  0.3 ],\n",
       "       [ 0.5 ,  0.5 ],\n",
       "       [ 0.95,  0.05],\n",
       "       [ 0.65,  0.35],\n",
       "       [ 0.8 ,  0.2 ],\n",
       "       [ 0.85,  0.15],\n",
       "       [ 0.5 ,  0.5 ],\n",
       "       [ 0.7 ,  0.3 ],\n",
       "       [ 0.75,  0.25],\n",
       "       [ 0.85,  0.15],\n",
       "       [ 0.55,  0.45],\n",
       "       [ 0.55,  0.45],\n",
       "       [ 0.65,  0.35],\n",
       "       [ 0.8 ,  0.2 ],\n",
       "       [ 0.3 ,  0.7 ],\n",
       "       [ 0.5 ,  0.5 ],\n",
       "       [ 0.65,  0.35],\n",
       "       [ 0.7 ,  0.3 ],\n",
       "       [ 0.7 ,  0.3 ],\n",
       "       [ 0.1 ,  0.9 ],\n",
       "       [ 0.25,  0.75],\n",
       "       [ 0.5 ,  0.5 ],\n",
       "       [ 0.75,  0.25],\n",
       "       [ 0.75,  0.25],\n",
       "       [ 0.65,  0.35],\n",
       "       [ 0.25,  0.75],\n",
       "       [ 0.8 ,  0.2 ],\n",
       "       [ 0.35,  0.65],\n",
       "       [ 0.6 ,  0.4 ],\n",
       "       [ 0.35,  0.65],\n",
       "       [ 0.35,  0.65],\n",
       "       [ 0.85,  0.15],\n",
       "       [ 0.5 ,  0.5 ],\n",
       "       [ 0.85,  0.15],\n",
       "       [ 0.75,  0.25],\n",
       "       [ 0.45,  0.55],\n",
       "       [ 0.35,  0.65],\n",
       "       [ 0.3 ,  0.7 ],\n",
       "       [ 0.55,  0.45],\n",
       "       [ 0.45,  0.55],\n",
       "       [ 0.7 ,  0.3 ],\n",
       "       [ 0.8 ,  0.2 ],\n",
       "       [ 0.5 ,  0.5 ],\n",
       "       [ 0.4 ,  0.6 ],\n",
       "       [ 0.45,  0.55],\n",
       "       [ 0.45,  0.55],\n",
       "       [ 0.65,  0.35],\n",
       "       [ 0.5 ,  0.5 ],\n",
       "       [ 0.8 ,  0.2 ],\n",
       "       [ 0.3 ,  0.7 ],\n",
       "       [ 0.95,  0.05],\n",
       "       [ 0.55,  0.45],\n",
       "       [ 0.5 ,  0.5 ],\n",
       "       [ 0.65,  0.35],\n",
       "       [ 0.35,  0.65],\n",
       "       [ 0.75,  0.25],\n",
       "       [ 0.55,  0.45],\n",
       "       [ 0.35,  0.65]])"
      ]
     },
     "execution_count": 88,
     "metadata": {},
     "output_type": "execute_result"
    }
   ],
   "source": [
    "# returns all probability estimates\n",
    "probs = model.predict_proba(X_test)\n",
    "probs"
   ]
  },
  {
   "cell_type": "markdown",
   "metadata": {},
   "source": [
    "# Logit Model 2"
   ]
  },
  {
   "cell_type": "code",
   "execution_count": 54,
   "metadata": {
    "scrolled": true
   },
   "outputs": [
    {
     "name": "stderr",
     "output_type": "stream",
     "text": [
      "C:\\Users\\cslun\\Anaconda3\\lib\\site-packages\\ipykernel_launcher.py:1: SettingWithCopyWarning: \n",
      "A value is trying to be set on a copy of a slice from a DataFrame.\n",
      "Try using .loc[row_indexer,col_indexer] = value instead\n",
      "\n",
      "See the caveats in the documentation: http://pandas.pydata.org/pandas-docs/stable/indexing.html#indexing-view-versus-copy\n",
      "  \"\"\"Entry point for launching an IPython kernel.\n",
      "C:\\Users\\cslun\\Anaconda3\\lib\\site-packages\\ipykernel_launcher.py:2: SettingWithCopyWarning: \n",
      "A value is trying to be set on a copy of a slice from a DataFrame.\n",
      "Try using .loc[row_indexer,col_indexer] = value instead\n",
      "\n",
      "See the caveats in the documentation: http://pandas.pydata.org/pandas-docs/stable/indexing.html#indexing-view-versus-copy\n",
      "  \n"
     ]
    }
   ],
   "source": [
    "train['oor'] = train['or'] #needed because 'or' won't work in a formula\n",
    "test['oor'] = test['or']\n",
    "formula = 'result ~ 0 + Result + ast + blk + diff + dr + fga + fgm + fgm3 + fgp + fgp3 + fta + ftm + ftp + oppscore + oor + pf + score + stl + to + tr + elo + Result_opp + ast_opp + blk_opp + diff_opp + dr_opp + fga_opp + fgm_opp + fgm3_opp + fgp_opp + fgp3_opp + fta_opp + ftm_opp + ftp_opp + oppscore_opp + or_opp + pf_opp + score_opp + stl_opp + to_opp + tr_opp + elo_opp + de + efgp + ftr + oe + orpct + topct + de_opp + efgp_opp + ftr_opp + oe_opp + orpct_opp + topct_opp'"
   ]
  },
  {
   "cell_type": "code",
   "execution_count": 55,
   "metadata": {
    "collapsed": true
   },
   "outputs": [],
   "source": [
    "Y_train, X_train = dmatrices(formula, train, return_type='dataframe')\n",
    "y_train = Y_train['result'].values\n",
    "\n",
    "\n",
    "Y_test, X_test = dmatrices(formula, test, return_type='dataframe')\n",
    "y_test = Y_test['result'].values"
   ]
  },
  {
   "cell_type": "code",
   "execution_count": 56,
   "metadata": {
    "collapsed": true
   },
   "outputs": [],
   "source": [
    "model = LogisticRegression()\n",
    "result = model.fit(X_train, y_train)"
   ]
  },
  {
   "cell_type": "code",
   "execution_count": 57,
   "metadata": {},
   "outputs": [
    {
     "name": "stdout",
     "output_type": "stream",
     "text": [
      "0.71546635183\n"
     ]
    }
   ],
   "source": [
    "prediction_train = model.predict(X_train)\n",
    "print (metrics.accuracy_score(y_train, prediction_train))"
   ]
  },
  {
   "cell_type": "code",
   "execution_count": 58,
   "metadata": {},
   "outputs": [
    {
     "name": "stdout",
     "output_type": "stream",
     "text": [
      "0.746268656716\n"
     ]
    }
   ],
   "source": [
    "prediction = model.predict(X_test)\n",
    "print (metrics.accuracy_score(y_test, prediction))"
   ]
  },
  {
   "cell_type": "code",
   "execution_count": 59,
   "metadata": {
    "collapsed": true
   },
   "outputs": [
    {
     "data": {
      "text/plain": [
       "array([[ 0.39899096,  0.60100904],\n",
       "       [ 0.31436487,  0.68563513],\n",
       "       [ 0.7157    ,  0.2843    ],\n",
       "       [ 0.31909675,  0.68090325],\n",
       "       [ 0.79963335,  0.20036665],\n",
       "       [ 0.22138801,  0.77861199],\n",
       "       [ 0.19347354,  0.80652646],\n",
       "       [ 0.31186914,  0.68813086],\n",
       "       [ 0.40693152,  0.59306848],\n",
       "       [ 0.11682489,  0.88317511],\n",
       "       [ 0.28057533,  0.71942467],\n",
       "       [ 0.01030907,  0.98969093],\n",
       "       [ 0.11689477,  0.88310523],\n",
       "       [ 0.06175461,  0.93824539],\n",
       "       [ 0.01495593,  0.98504407],\n",
       "       [ 0.48163544,  0.51836456],\n",
       "       [ 0.2023189 ,  0.7976811 ],\n",
       "       [ 0.00976822,  0.99023178],\n",
       "       [ 0.58221953,  0.41778047],\n",
       "       [ 0.63462753,  0.36537247],\n",
       "       [ 0.79705191,  0.20294809],\n",
       "       [ 0.32061579,  0.67938421],\n",
       "       [ 0.28664759,  0.71335241],\n",
       "       [ 0.95940679,  0.04059321],\n",
       "       [ 0.63577836,  0.36422164],\n",
       "       [ 0.37585992,  0.62414008],\n",
       "       [ 0.14595756,  0.85404244],\n",
       "       [ 0.0059792 ,  0.9940208 ],\n",
       "       [ 0.68188249,  0.31811751],\n",
       "       [ 0.67808799,  0.32191201],\n",
       "       [ 0.43272704,  0.56727296],\n",
       "       [ 0.10544156,  0.89455844],\n",
       "       [ 0.23540429,  0.76459571],\n",
       "       [ 0.04140639,  0.95859361],\n",
       "       [ 0.30225483,  0.69774517],\n",
       "       [ 0.07221553,  0.92778447],\n",
       "       [ 0.26945467,  0.73054533],\n",
       "       [ 0.46518004,  0.53481996],\n",
       "       [ 0.5085742 ,  0.4914258 ],\n",
       "       [ 0.41498397,  0.58501603],\n",
       "       [ 0.23174251,  0.76825749],\n",
       "       [ 0.4066346 ,  0.5933654 ],\n",
       "       [ 0.06889667,  0.93110333],\n",
       "       [ 0.28030628,  0.71969372],\n",
       "       [ 0.22026436,  0.77973564],\n",
       "       [ 0.60545404,  0.39454596],\n",
       "       [ 0.4036971 ,  0.5963029 ],\n",
       "       [ 0.10187196,  0.89812804],\n",
       "       [ 0.28256279,  0.71743721],\n",
       "       [ 0.31188089,  0.68811911],\n",
       "       [ 0.19519796,  0.80480204],\n",
       "       [ 0.47373503,  0.52626497],\n",
       "       [ 0.18703825,  0.81296175],\n",
       "       [ 0.41957653,  0.58042347],\n",
       "       [ 0.32273375,  0.67726625],\n",
       "       [ 0.41839889,  0.58160111],\n",
       "       [ 0.37314254,  0.62685746],\n",
       "       [ 0.62406213,  0.37593787],\n",
       "       [ 0.80727621,  0.19272379],\n",
       "       [ 0.14044359,  0.85955641],\n",
       "       [ 0.68927099,  0.31072901],\n",
       "       [ 0.62108255,  0.37891745],\n",
       "       [ 0.14721677,  0.85278323],\n",
       "       [ 0.90622297,  0.09377703],\n",
       "       [ 0.08045811,  0.91954189],\n",
       "       [ 0.34607453,  0.65392547],\n",
       "       [ 0.63861821,  0.36138179],\n",
       "       [ 0.60065987,  0.39934013],\n",
       "       [ 0.68543869,  0.31456131],\n",
       "       [ 0.28405664,  0.71594336],\n",
       "       [ 0.68088196,  0.31911804],\n",
       "       [ 0.20026825,  0.79973175],\n",
       "       [ 0.77851443,  0.22148557],\n",
       "       [ 0.80654971,  0.19345029],\n",
       "       [ 0.68806134,  0.31193866],\n",
       "       [ 0.59336989,  0.40663011],\n",
       "       [ 0.883235  ,  0.116765  ],\n",
       "       [ 0.71940387,  0.28059613],\n",
       "       [ 0.98970098,  0.01029902],\n",
       "       [ 0.88294311,  0.11705689],\n",
       "       [ 0.93829337,  0.06170663],\n",
       "       [ 0.98502131,  0.01497869],\n",
       "       [ 0.51828937,  0.48171063],\n",
       "       [ 0.79769773,  0.20230227],\n",
       "       [ 0.99022699,  0.00977301],\n",
       "       [ 0.417687  ,  0.582313  ],\n",
       "       [ 0.3652001 ,  0.6347999 ],\n",
       "       [ 0.20296733,  0.79703267],\n",
       "       [ 0.6792767 ,  0.3207233 ],\n",
       "       [ 0.71349903,  0.28650097],\n",
       "       [ 0.04056617,  0.95943383],\n",
       "       [ 0.36420995,  0.63579005],\n",
       "       [ 0.62413789,  0.37586211],\n",
       "       [ 0.85402688,  0.14597312],\n",
       "       [ 0.99401569,  0.00598431],\n",
       "       [ 0.31792482,  0.68207518],\n",
       "       [ 0.32179177,  0.67820823],\n",
       "       [ 0.56736119,  0.43263881],\n",
       "       [ 0.89452344,  0.10547656],\n",
       "       [ 0.76452328,  0.23547672],\n",
       "       [ 0.95860778,  0.04139222],\n",
       "       [ 0.69770045,  0.30229955],\n",
       "       [ 0.92786021,  0.07213979],\n",
       "       [ 0.7305742 ,  0.2694258 ],\n",
       "       [ 0.53510303,  0.46489697],\n",
       "       [ 0.49141477,  0.50858523],\n",
       "       [ 0.58485269,  0.41514731],\n",
       "       [ 0.76829292,  0.23170708],\n",
       "       [ 0.59330334,  0.40669666],\n",
       "       [ 0.931045  ,  0.068955  ],\n",
       "       [ 0.71953572,  0.28046428],\n",
       "       [ 0.77976291,  0.22023709],\n",
       "       [ 0.39425815,  0.60574185],\n",
       "       [ 0.59652088,  0.40347912],\n",
       "       [ 0.89810825,  0.10189175],\n",
       "       [ 0.7175049 ,  0.2824951 ],\n",
       "       [ 0.68814045,  0.31185955],\n",
       "       [ 0.80476424,  0.19523576],\n",
       "       [ 0.52652611,  0.47347389],\n",
       "       [ 0.81307647,  0.18692353],\n",
       "       [ 0.58064881,  0.41935119],\n",
       "       [ 0.67732991,  0.32267009],\n",
       "       [ 0.58173495,  0.41826505],\n",
       "       [ 0.6268404 ,  0.3731596 ],\n",
       "       [ 0.3760335 ,  0.6239665 ],\n",
       "       [ 0.19288263,  0.80711737],\n",
       "       [ 0.85946546,  0.14053454],\n",
       "       [ 0.31096522,  0.68903478],\n",
       "       [ 0.37909872,  0.62090128],\n",
       "       [ 0.85267663,  0.14732337],\n",
       "       [ 0.09376384,  0.90623616],\n",
       "       [ 0.91951715,  0.08048285],\n",
       "       [ 0.65422478,  0.34577522],\n",
       "       [ 0.36125244,  0.63874756]])"
      ]
     },
     "execution_count": 59,
     "metadata": {},
     "output_type": "execute_result"
    }
   ],
   "source": [
    "# returns all probability estimates\n",
    "probs = model.predict_proba(X_test)\n",
    "probs"
   ]
  },
  {
   "cell_type": "code",
   "execution_count": 60,
   "metadata": {
    "scrolled": true
   },
   "outputs": [
    {
     "data": {
      "text/plain": [
       "array([[-1.71989565, -0.11539965,  0.04154852,  0.22322791, -0.12821481,\n",
       "        -0.04016185,  0.05919822, -0.06685012,  0.01410077, -0.33853445,\n",
       "        -0.13701433,  0.06933141,  0.06045341, -0.10235016,  0.12114128,\n",
       "         0.03160124,  0.12087775,  0.00180839,  0.03726525, -0.00707353,\n",
       "         0.00647309,  1.71988607,  0.11557978, -0.04132249, -0.22329028,\n",
       "         0.1282385 ,  0.04019641, -0.05913589,  0.06667918, -0.01409359,\n",
       "         0.33853355,  0.13704898, -0.06934545, -0.06044492,  0.10235223,\n",
       "        -0.12118984, -0.03150507, -0.12093805, -0.00195312, -0.03756882,\n",
       "         0.00704866, -0.0064752 ,  0.15332825,  0.0162246 , -0.08674096,\n",
       "        -0.16436049,  0.01217943, -0.01319728, -0.15335745, -0.01621812,\n",
       "         0.08674477,  0.16445244, -0.01218002,  0.01319353]])"
      ]
     },
     "execution_count": 60,
     "metadata": {},
     "output_type": "execute_result"
    }
   ],
   "source": [
    "model.coef_"
   ]
  },
  {
   "cell_type": "markdown",
   "metadata": {},
   "source": [
    "# SVM 2"
   ]
  },
  {
   "cell_type": "code",
   "execution_count": 25,
   "metadata": {
    "scrolled": true
   },
   "outputs": [
    {
     "name": "stderr",
     "output_type": "stream",
     "text": [
      "C:\\Users\\cslun\\Anaconda3\\lib\\site-packages\\ipykernel_launcher.py:1: SettingWithCopyWarning: \n",
      "A value is trying to be set on a copy of a slice from a DataFrame.\n",
      "Try using .loc[row_indexer,col_indexer] = value instead\n",
      "\n",
      "See the caveats in the documentation: http://pandas.pydata.org/pandas-docs/stable/indexing.html#indexing-view-versus-copy\n",
      "  \"\"\"Entry point for launching an IPython kernel.\n",
      "C:\\Users\\cslun\\Anaconda3\\lib\\site-packages\\ipykernel_launcher.py:2: SettingWithCopyWarning: \n",
      "A value is trying to be set on a copy of a slice from a DataFrame.\n",
      "Try using .loc[row_indexer,col_indexer] = value instead\n",
      "\n",
      "See the caveats in the documentation: http://pandas.pydata.org/pandas-docs/stable/indexing.html#indexing-view-versus-copy\n",
      "  \n"
     ]
    }
   ],
   "source": [
    "train['oor'] = train['or'] #needed because 'or' won't work in a formula\n",
    "test['oor'] = test['or']\n",
    "formula = 'result ~ 0 + Result + ast + blk + diff + dr + fga + fgm + fgm3 + fgp + fgp3 + fta + ftm + ftp + oppscore + oor + pf + score + stl + to + tr + elo + Result_opp + ast_opp + blk_opp + diff_opp + dr_opp + fga_opp + fgm_opp + fgm3_opp + fgp_opp + fgp3_opp + fta_opp + ftm_opp + ftp_opp + oppscore_opp + or_opp + pf_opp + score_opp + stl_opp + to_opp + tr_opp + elo_opp + de + efgp + ftr + oe + orpct + topct + de_opp + efgp_opp + ftr_opp + oe_opp + orpct_opp + topct_opp'"
   ]
  },
  {
   "cell_type": "code",
   "execution_count": 26,
   "metadata": {
    "collapsed": true
   },
   "outputs": [],
   "source": [
    "Y_train, X_train = dmatrices(formula, train, return_type='dataframe')\n",
    "y_train = Y_train['result'].values\n",
    "\n",
    "\n",
    "Y_test, X_test = dmatrices(formula, test, return_type='dataframe')\n",
    "y_test = Y_test['result'].values"
   ]
  },
  {
   "cell_type": "code",
   "execution_count": 31,
   "metadata": {},
   "outputs": [],
   "source": [
    "model = SVC(kernel = 'linear')\n",
    "result = model.fit(X_train, y_train)"
   ]
  },
  {
   "cell_type": "code",
   "execution_count": 32,
   "metadata": {},
   "outputs": [
    {
     "name": "stdout",
     "output_type": "stream",
     "text": [
      "0.718417945691\n"
     ]
    }
   ],
   "source": [
    "prediction_train = model.predict(X_train)\n",
    "print (metrics.accuracy_score(y_train, prediction_train))"
   ]
  },
  {
   "cell_type": "code",
   "execution_count": 33,
   "metadata": {},
   "outputs": [
    {
     "name": "stdout",
     "output_type": "stream",
     "text": [
      "0.738805970149\n"
     ]
    }
   ],
   "source": [
    "prediction = model.predict(X_test)\n",
    "print (metrics.accuracy_score(y_test, prediction))"
   ]
  },
  {
   "cell_type": "markdown",
   "metadata": {},
   "source": [
    "## Random Forest 2"
   ]
  },
  {
   "cell_type": "code",
   "execution_count": 61,
   "metadata": {},
   "outputs": [
    {
     "name": "stderr",
     "output_type": "stream",
     "text": [
      "C:\\Users\\cslun\\Anaconda3\\lib\\site-packages\\ipykernel_launcher.py:1: SettingWithCopyWarning: \n",
      "A value is trying to be set on a copy of a slice from a DataFrame.\n",
      "Try using .loc[row_indexer,col_indexer] = value instead\n",
      "\n",
      "See the caveats in the documentation: http://pandas.pydata.org/pandas-docs/stable/indexing.html#indexing-view-versus-copy\n",
      "  \"\"\"Entry point for launching an IPython kernel.\n",
      "C:\\Users\\cslun\\Anaconda3\\lib\\site-packages\\ipykernel_launcher.py:2: SettingWithCopyWarning: \n",
      "A value is trying to be set on a copy of a slice from a DataFrame.\n",
      "Try using .loc[row_indexer,col_indexer] = value instead\n",
      "\n",
      "See the caveats in the documentation: http://pandas.pydata.org/pandas-docs/stable/indexing.html#indexing-view-versus-copy\n",
      "  \n"
     ]
    }
   ],
   "source": [
    "train['oor'] = train['or'] #needed because 'or' won't work in a formula\n",
    "test['oor'] = test['or']\n",
    "formula = 'result ~ 0 + Result + ast + blk + diff + dr + fga + fgm + fgm3 + fgp + fgp3 + fta + ftm + ftp + oppscore + oor + pf + score + stl + to + tr + elo + Result_opp + ast_opp + blk_opp + diff_opp + dr_opp + fga_opp + fgm_opp + fgm3_opp + fgp_opp + fgp3_opp + fta_opp + ftm_opp + ftp_opp + oppscore_opp + or_opp + pf_opp + score_opp + stl_opp + to_opp + tr_opp + elo_opp + de + efgp + ftr + oe + orpct + topct + de_opp + efgp_opp + ftr_opp + oe_opp + orpct_opp + topct_opp'"
   ]
  },
  {
   "cell_type": "code",
   "execution_count": 62,
   "metadata": {
    "collapsed": true
   },
   "outputs": [],
   "source": [
    "Y_train, X_train = dmatrices(formula, train, return_type='dataframe')\n",
    "y_train = Y_train['result'].values\n",
    "\n",
    "\n",
    "Y_test, X_test = dmatrices(formula, test, return_type='dataframe')\n",
    "y_test = Y_test['result'].values"
   ]
  },
  {
   "cell_type": "code",
   "execution_count": 63,
   "metadata": {
    "collapsed": true
   },
   "outputs": [],
   "source": [
    "model = RandomForestClassifier(max_depth = 6, n_estimators = 1500)\n",
    "result = model.fit(X_train, y_train)"
   ]
  },
  {
   "cell_type": "code",
   "execution_count": 64,
   "metadata": {},
   "outputs": [
    {
     "name": "stdout",
     "output_type": "stream",
     "text": [
      "0.865407319953\n"
     ]
    }
   ],
   "source": [
    "prediction_train = model.predict(X_train)\n",
    "print (metrics.accuracy_score(y_train, prediction_train))"
   ]
  },
  {
   "cell_type": "code",
   "execution_count": 65,
   "metadata": {},
   "outputs": [
    {
     "name": "stdout",
     "output_type": "stream",
     "text": [
      "0.671641791045\n"
     ]
    }
   ],
   "source": [
    "prediction = model.predict(X_test)\n",
    "print (metrics.accuracy_score(y_test, prediction))"
   ]
  },
  {
   "cell_type": "code",
   "execution_count": 66,
   "metadata": {},
   "outputs": [
    {
     "data": {
      "text/plain": [
       "array([[ 0.49086182,  0.50913818],\n",
       "       [ 0.435926  ,  0.564074  ],\n",
       "       [ 0.50916943,  0.49083057],\n",
       "       [ 0.45853975,  0.54146025],\n",
       "       [ 0.70138031,  0.29861969],\n",
       "       [ 0.40675897,  0.59324103],\n",
       "       [ 0.40637867,  0.59362133],\n",
       "       [ 0.44598268,  0.55401732],\n",
       "       [ 0.52597049,  0.47402951],\n",
       "       [ 0.27519071,  0.72480929],\n",
       "       [ 0.46922532,  0.53077468],\n",
       "       [ 0.12035004,  0.87964996],\n",
       "       [ 0.32450556,  0.67549444],\n",
       "       [ 0.24276068,  0.75723932],\n",
       "       [ 0.17799693,  0.82200307],\n",
       "       [ 0.43604445,  0.56395555],\n",
       "       [ 0.36636764,  0.63363236],\n",
       "       [ 0.24012909,  0.75987091],\n",
       "       [ 0.59910685,  0.40089315],\n",
       "       [ 0.45317894,  0.54682106],\n",
       "       [ 0.56245089,  0.43754911],\n",
       "       [ 0.50191741,  0.49808259],\n",
       "       [ 0.39741163,  0.60258837],\n",
       "       [ 0.81784631,  0.18215369],\n",
       "       [ 0.50814519,  0.49185481],\n",
       "       [ 0.46161732,  0.53838268],\n",
       "       [ 0.30399757,  0.69600243],\n",
       "       [ 0.16500531,  0.83499469],\n",
       "       [ 0.59173653,  0.40826347],\n",
       "       [ 0.53778772,  0.46221228],\n",
       "       [ 0.5616515 ,  0.4383485 ],\n",
       "       [ 0.24675948,  0.75324052],\n",
       "       [ 0.35341086,  0.64658914],\n",
       "       [ 0.19485381,  0.80514619],\n",
       "       [ 0.43422802,  0.56577198],\n",
       "       [ 0.18987208,  0.81012792],\n",
       "       [ 0.51173717,  0.48826283],\n",
       "       [ 0.51552347,  0.48447653],\n",
       "       [ 0.55291636,  0.44708364],\n",
       "       [ 0.51443733,  0.48556267],\n",
       "       [ 0.34516689,  0.65483311],\n",
       "       [ 0.41848278,  0.58151722],\n",
       "       [ 0.20441177,  0.79558823],\n",
       "       [ 0.36917599,  0.63082401],\n",
       "       [ 0.47709791,  0.52290209],\n",
       "       [ 0.59017978,  0.40982022],\n",
       "       [ 0.39352989,  0.60647011],\n",
       "       [ 0.34041903,  0.65958097],\n",
       "       [ 0.45616624,  0.54383376],\n",
       "       [ 0.31280586,  0.68719414],\n",
       "       [ 0.31706747,  0.68293253],\n",
       "       [ 0.65880172,  0.34119828],\n",
       "       [ 0.32676029,  0.67323971],\n",
       "       [ 0.46868131,  0.53131869],\n",
       "       [ 0.33732174,  0.66267826],\n",
       "       [ 0.47680449,  0.52319551],\n",
       "       [ 0.39243599,  0.60756401],\n",
       "       [ 0.52387827,  0.47612173],\n",
       "       [ 0.65860691,  0.34139309],\n",
       "       [ 0.33161675,  0.66838325],\n",
       "       [ 0.54155061,  0.45844939],\n",
       "       [ 0.50808994,  0.49191006],\n",
       "       [ 0.21096516,  0.78903484],\n",
       "       [ 0.72805951,  0.27194049],\n",
       "       [ 0.17621791,  0.82378209],\n",
       "       [ 0.46750412,  0.53249588],\n",
       "       [ 0.56223477,  0.43776523],\n",
       "       [ 0.54426114,  0.45573886],\n",
       "       [ 0.55096547,  0.44903453],\n",
       "       [ 0.50061593,  0.49938407],\n",
       "       [ 0.54765417,  0.45234583],\n",
       "       [ 0.31542138,  0.68457862],\n",
       "       [ 0.59259777,  0.40740223],\n",
       "       [ 0.61267951,  0.38732049],\n",
       "       [ 0.55019429,  0.44980571],\n",
       "       [ 0.46736088,  0.53263912],\n",
       "       [ 0.72791253,  0.27208747],\n",
       "       [ 0.55218443,  0.44781557],\n",
       "       [ 0.87791909,  0.12208091],\n",
       "       [ 0.66229889,  0.33770111],\n",
       "       [ 0.75108484,  0.24891516],\n",
       "       [ 0.81148904,  0.18851096],\n",
       "       [ 0.57616471,  0.42383529],\n",
       "       [ 0.61696801,  0.38303199],\n",
       "       [ 0.75987738,  0.24012262],\n",
       "       [ 0.41054288,  0.58945712],\n",
       "       [ 0.54932837,  0.45067163],\n",
       "       [ 0.43905006,  0.56094994],\n",
       "       [ 0.51098989,  0.48901011],\n",
       "       [ 0.61156881,  0.38843119],\n",
       "       [ 0.18857173,  0.81142827],\n",
       "       [ 0.4714864 ,  0.5285136 ],\n",
       "       [ 0.53900633,  0.46099367],\n",
       "       [ 0.68022757,  0.31977243],\n",
       "       [ 0.84803707,  0.15196293],\n",
       "       [ 0.43354716,  0.56645284],\n",
       "       [ 0.44538901,  0.55461099],\n",
       "       [ 0.43873305,  0.56126695],\n",
       "       [ 0.76082656,  0.23917344],\n",
       "       [ 0.64092583,  0.35907417],\n",
       "       [ 0.80517438,  0.19482562],\n",
       "       [ 0.56345839,  0.43654161],\n",
       "       [ 0.80769915,  0.19230085],\n",
       "       [ 0.49091362,  0.50908638],\n",
       "       [ 0.49498375,  0.50501625],\n",
       "       [ 0.44606095,  0.55393905],\n",
       "       [ 0.49237831,  0.50762169],\n",
       "       [ 0.65396305,  0.34603695],\n",
       "       [ 0.57259588,  0.42740412],\n",
       "       [ 0.78454158,  0.21545842],\n",
       "       [ 0.64438049,  0.35561951],\n",
       "       [ 0.531773  ,  0.468227  ],\n",
       "       [ 0.39316736,  0.60683264],\n",
       "       [ 0.59208428,  0.40791572],\n",
       "       [ 0.65380689,  0.34619311],\n",
       "       [ 0.55113961,  0.44886039],\n",
       "       [ 0.71112907,  0.28887093],\n",
       "       [ 0.67312689,  0.32687311],\n",
       "       [ 0.32236185,  0.67763815],\n",
       "       [ 0.68062636,  0.31937364],\n",
       "       [ 0.52359951,  0.47640049],\n",
       "       [ 0.66532803,  0.33467197],\n",
       "       [ 0.53196698,  0.46803302],\n",
       "       [ 0.6004169 ,  0.3995831 ],\n",
       "       [ 0.47764221,  0.52235779],\n",
       "       [ 0.34056294,  0.65943706],\n",
       "       [ 0.68512975,  0.31487025],\n",
       "       [ 0.45746302,  0.54253698],\n",
       "       [ 0.48796636,  0.51203364],\n",
       "       [ 0.75604859,  0.24395141],\n",
       "       [ 0.26519446,  0.73480554],\n",
       "       [ 0.81104225,  0.18895775],\n",
       "       [ 0.53618121,  0.46381879],\n",
       "       [ 0.41999076,  0.58000924]])"
      ]
     },
     "execution_count": 66,
     "metadata": {},
     "output_type": "execute_result"
    }
   ],
   "source": [
    "# returns all probability estimates\n",
    "probs = model.predict_proba(X_test)\n",
    "probs"
   ]
  },
  {
   "cell_type": "code",
   "execution_count": 67,
   "metadata": {
    "scrolled": false
   },
   "outputs": [
    {
     "data": {
      "text/plain": [
       "array([ 0.04088952,  0.00942605,  0.01567716,  0.0626727 ,  0.00933942,\n",
       "        0.01212192,  0.01970781,  0.00906183,  0.01049223,  0.0080806 ,\n",
       "        0.00742461,  0.00717841,  0.00858809,  0.01383259,  0.00946751,\n",
       "        0.01030485,  0.01423965,  0.00853444,  0.01039158,  0.01136612,\n",
       "        0.12656661,  0.0381776 ,  0.00970905,  0.01465413,  0.06669681,\n",
       "        0.00879755,  0.01050868,  0.01725777,  0.0098402 ,  0.0115234 ,\n",
       "        0.00816027,  0.00736842,  0.00719611,  0.00912149,  0.01347998,\n",
       "        0.00937719,  0.01021863,  0.01460445,  0.00893787,  0.01039542,\n",
       "        0.01139443,  0.12649748,  0.01963731,  0.00865744,  0.00930572,\n",
       "        0.00986259,  0.01629963,  0.01058266,  0.01919449,  0.00962504,\n",
       "        0.00976707,  0.01053424,  0.01628699,  0.01096618])"
      ]
     },
     "execution_count": 67,
     "metadata": {},
     "output_type": "execute_result"
    }
   ],
   "source": [
    "model.feature_importances_"
   ]
  },
  {
   "cell_type": "code",
   "execution_count": 68,
   "metadata": {
    "scrolled": true
   },
   "outputs": [
    {
     "name": "stdout",
     "output_type": "stream",
     "text": [
      "Feature ranking:\n",
      "1. feature 20 (0.126567)\n",
      "2. feature 41 (0.126497)\n",
      "3. feature 24 (0.066697)\n",
      "4. feature 3 (0.062673)\n",
      "5. feature 0 (0.040890)\n",
      "6. feature 21 (0.038178)\n",
      "7. feature 6 (0.019708)\n",
      "8. feature 42 (0.019637)\n",
      "9. feature 48 (0.019194)\n",
      "10. feature 27 (0.017258)\n",
      "11. feature 46 (0.016300)\n",
      "12. feature 52 (0.016287)\n",
      "13. feature 2 (0.015677)\n",
      "14. feature 23 (0.014654)\n",
      "15. feature 37 (0.014604)\n",
      "16. feature 16 (0.014240)\n",
      "17. feature 13 (0.013833)\n",
      "18. feature 34 (0.013480)\n",
      "19. feature 5 (0.012122)\n",
      "20. feature 29 (0.011523)\n",
      "21. feature 40 (0.011394)\n",
      "22. feature 19 (0.011366)\n",
      "23. feature 53 (0.010966)\n",
      "24. feature 47 (0.010583)\n",
      "25. feature 51 (0.010534)\n",
      "26. feature 26 (0.010509)\n",
      "27. feature 8 (0.010492)\n",
      "28. feature 39 (0.010395)\n",
      "29. feature 18 (0.010392)\n",
      "30. feature 15 (0.010305)\n",
      "31. feature 36 (0.010219)\n",
      "32. feature 45 (0.009863)\n",
      "33. feature 28 (0.009840)\n",
      "34. feature 50 (0.009767)\n",
      "35. feature 22 (0.009709)\n",
      "36. feature 49 (0.009625)\n",
      "37. feature 14 (0.009468)\n",
      "38. feature 1 (0.009426)\n",
      "39. feature 35 (0.009377)\n",
      "40. feature 4 (0.009339)\n",
      "41. feature 44 (0.009306)\n",
      "42. feature 33 (0.009121)\n",
      "43. feature 7 (0.009062)\n",
      "44. feature 38 (0.008938)\n",
      "45. feature 25 (0.008798)\n",
      "46. feature 43 (0.008657)\n",
      "47. feature 12 (0.008588)\n",
      "48. feature 17 (0.008534)\n",
      "49. feature 30 (0.008160)\n",
      "50. feature 9 (0.008081)\n",
      "51. feature 10 (0.007425)\n",
      "52. feature 31 (0.007368)\n",
      "53. feature 32 (0.007196)\n",
      "54. feature 11 (0.007178)\n"
     ]
    },
    {
     "data": {
      "image/png": "[encoded data removed]",
      "text/plain": [
       "<matplotlib.figure.Figure at 0x218e676af28>"
      ]
     },
     "metadata": {},
     "output_type": "display_data"
    }
   ],
   "source": [
    "importances = model.feature_importances_\n",
    "std = np.std([tree.feature_importances_ for tree in model.estimators_],\n",
    "             axis=0)\n",
    "indices = np.argsort(importances)[::-1]\n",
    "\n",
    "# Print the feature ranking\n",
    "print(\"Feature ranking:\")\n",
    "\n",
    "for f in range(X_train.shape[1]):\n",
    "    print(\"%d. feature %d (%f)\" % (f + 1, indices[f], importances[indices[f]]))\n",
    "\n",
    "# Plot the feature importances of the forest\n",
    "plt.figure()\n",
    "plt.title(\"Feature importances\")\n",
    "plt.bar(range(X_train.shape[1]), importances[indices],\n",
    "       color=\"r\", yerr=std[indices], align=\"center\")\n",
    "plt.xticks(range(X_train.shape[1]), indices)\n",
    "plt.xlim([-1, X_train.shape[1]])\n",
    "plt.show()"
   ]
  },
  {
   "cell_type": "markdown",
   "metadata": {},
   "source": [
    "# XGBoost 2"
   ]
  },
  {
   "cell_type": "code",
   "execution_count": 61,
   "metadata": {},
   "outputs": [
    {
     "name": "stderr",
     "output_type": "stream",
     "text": [
      "C:\\Users\\cslun\\Anaconda3\\lib\\site-packages\\ipykernel_launcher.py:1: SettingWithCopyWarning: \n",
      "A value is trying to be set on a copy of a slice from a DataFrame.\n",
      "Try using .loc[row_indexer,col_indexer] = value instead\n",
      "\n",
      "See the caveats in the documentation: http://pandas.pydata.org/pandas-docs/stable/indexing.html#indexing-view-versus-copy\n",
      "  \"\"\"Entry point for launching an IPython kernel.\n",
      "C:\\Users\\cslun\\Anaconda3\\lib\\site-packages\\ipykernel_launcher.py:2: SettingWithCopyWarning: \n",
      "A value is trying to be set on a copy of a slice from a DataFrame.\n",
      "Try using .loc[row_indexer,col_indexer] = value instead\n",
      "\n",
      "See the caveats in the documentation: http://pandas.pydata.org/pandas-docs/stable/indexing.html#indexing-view-versus-copy\n",
      "  \n"
     ]
    }
   ],
   "source": [
    "train['oor'] = train['or'] #needed because 'or' won't work in a formula\n",
    "test['oor'] = test['or']\n",
    "formula = 'result ~ 0 + Result + ast + blk + diff + dr + fga + fgm + fgm3 + fgp + fgp3 + fta + ftm + ftp + oppscore + oor + pf + score + stl + to + tr + elo + Result_opp + ast_opp + blk_opp + diff_opp + dr_opp + fga_opp + fgm_opp + fgm3_opp + fgp_opp + fgp3_opp + fta_opp + ftm_opp + ftp_opp + oppscore_opp + or_opp + pf_opp + score_opp + stl_opp + to_opp + tr_opp + elo_opp + de + efgp + ftr + oe + orpct + topct + de_opp + efgp_opp + ftr_opp + oe_opp + orpct_opp + topct_opp'"
   ]
  },
  {
   "cell_type": "code",
   "execution_count": 62,
   "metadata": {
    "collapsed": true
   },
   "outputs": [],
   "source": [
    "Y_train, X_train = dmatrices(formula, train, return_type='dataframe')\n",
    "y_train = Y_train['result'].values\n",
    "\n",
    "\n",
    "Y_test, X_test = dmatrices(formula, test, return_type='dataframe')\n",
    "y_test = Y_test['result'].values"
   ]
  },
  {
   "cell_type": "code",
   "execution_count": 63,
   "metadata": {
    "collapsed": true
   },
   "outputs": [],
   "source": [
    "model = XGBClassifier(max_depth = 4, n_estimators = 300)\n",
    "result = model.fit(X_train, y_train)"
   ]
  },
  {
   "cell_type": "code",
   "execution_count": 64,
   "metadata": {},
   "outputs": [
    {
     "name": "stdout",
     "output_type": "stream",
     "text": [
      "1.0\n"
     ]
    }
   ],
   "source": [
    "prediction_train = model.predict(X_train)\n",
    "print (metrics.accuracy_score(y_train, prediction_train))"
   ]
  },
  {
   "cell_type": "code",
   "execution_count": 65,
   "metadata": {},
   "outputs": [
    {
     "name": "stdout",
     "output_type": "stream",
     "text": [
      "0.649253731343\n"
     ]
    }
   ],
   "source": [
    "prediction = model.predict(X_test)\n",
    "print (metrics.accuracy_score(y_test, prediction))"
   ]
  },
  {
   "cell_type": "code",
   "execution_count": 66,
   "metadata": {},
   "outputs": [
    {
     "data": {
      "text/plain": [
       "array([[  2.52348900e-01,   7.47651100e-01],\n",
       "       [  6.41561151e-02,   9.35843885e-01],\n",
       "       [  5.33913732e-01,   4.66086298e-01],\n",
       "       [  4.87791657e-01,   5.12208343e-01],\n",
       "       [  9.79313850e-01,   2.06861757e-02],\n",
       "       [  5.13782263e-01,   4.86217767e-01],\n",
       "       [  1.16672039e-01,   8.83327961e-01],\n",
       "       [  8.16557765e-01,   1.83442205e-01],\n",
       "       [  4.57216144e-01,   5.42783856e-01],\n",
       "       [  1.94504440e-01,   8.05495560e-01],\n",
       "       [  7.10334301e-01,   2.89665729e-01],\n",
       "       [  1.16020441e-03,   9.98839796e-01],\n",
       "       [  5.15618920e-02,   9.48438108e-01],\n",
       "       [  1.00648999e-02,   9.89935100e-01],\n",
       "       [  2.57742405e-03,   9.97422576e-01],\n",
       "       [  1.13057494e-01,   8.86942506e-01],\n",
       "       [  1.08635128e-01,   8.91364872e-01],\n",
       "       [  1.33598447e-02,   9.86640155e-01],\n",
       "       [  5.60051084e-01,   4.39948946e-01],\n",
       "       [  6.78107142e-01,   3.21892828e-01],\n",
       "       [  9.06514406e-01,   9.34855938e-02],\n",
       "       [  8.06642711e-01,   1.93357304e-01],\n",
       "       [  2.84569383e-01,   7.15430617e-01],\n",
       "       [  9.99184132e-01,   8.15890613e-04],\n",
       "       [  7.25394011e-01,   2.74605989e-01],\n",
       "       [  6.27045751e-01,   3.72954220e-01],\n",
       "       [  8.83510709e-02,   9.11648929e-01],\n",
       "       [  1.35287642e-02,   9.86471236e-01],\n",
       "       [  7.64003456e-01,   2.35996529e-01],\n",
       "       [  9.28230166e-01,   7.17698261e-02],\n",
       "       [  4.03680921e-01,   5.96319079e-01],\n",
       "       [  8.85266066e-03,   9.91147339e-01],\n",
       "       [  5.85558414e-02,   9.41444159e-01],\n",
       "       [  9.66287255e-02,   9.03371274e-01],\n",
       "       [  2.72512436e-02,   9.72748756e-01],\n",
       "       [  1.58411264e-02,   9.84158874e-01],\n",
       "       [  5.43370366e-01,   4.56629604e-01],\n",
       "       [  6.27719164e-01,   3.72280806e-01],\n",
       "       [  9.49008942e-01,   5.09910658e-02],\n",
       "       [  1.58384264e-01,   8.41615736e-01],\n",
       "       [  1.04171276e-01,   8.95828724e-01],\n",
       "       [  2.31189370e-01,   7.68810630e-01],\n",
       "       [  1.57892704e-02,   9.84210730e-01],\n",
       "       [  6.64213896e-02,   9.33578610e-01],\n",
       "       [  1.43671811e-01,   8.56328189e-01],\n",
       "       [  6.62979841e-01,   3.37020129e-01],\n",
       "       [  5.59125006e-01,   4.40874994e-01],\n",
       "       [  8.58458877e-02,   9.14154112e-01],\n",
       "       [  1.12530470e-01,   8.87469530e-01],\n",
       "       [  2.87624598e-02,   9.71237540e-01],\n",
       "       [  1.60633087e-01,   8.39366913e-01],\n",
       "       [  2.74533212e-01,   7.25466788e-01],\n",
       "       [  1.42701864e-01,   8.57298136e-01],\n",
       "       [  3.60735297e-01,   6.39264703e-01],\n",
       "       [  4.11429405e-02,   9.58857059e-01],\n",
       "       [  6.67059183e-01,   3.32940787e-01],\n",
       "       [  9.23439264e-02,   9.07656074e-01],\n",
       "       [  7.16033638e-01,   2.83966362e-01],\n",
       "       [  8.01823020e-01,   1.98176980e-01],\n",
       "       [  4.89488244e-02,   9.51051176e-01],\n",
       "       [  8.38176966e-01,   1.61823049e-01],\n",
       "       [  6.66786909e-01,   3.33213091e-01],\n",
       "       [  3.81587744e-02,   9.61841226e-01],\n",
       "       [  8.08404207e-01,   1.91595793e-01],\n",
       "       [  9.55365896e-02,   9.04463410e-01],\n",
       "       [  1.66571558e-01,   8.33428442e-01],\n",
       "       [  4.64893222e-01,   5.35106778e-01],\n",
       "       [  6.06465578e-01,   3.93534452e-01],\n",
       "       [  7.95033455e-01,   2.04966575e-01],\n",
       "       [  6.06948137e-01,   3.93051893e-01],\n",
       "       [  8.04000139e-01,   1.95999876e-01],\n",
       "       [  3.10410261e-02,   9.68958974e-01],\n",
       "       [  5.77787280e-01,   4.22212690e-01],\n",
       "       [  8.82270277e-01,   1.17729746e-01],\n",
       "       [  1.32275939e-01,   8.67724061e-01],\n",
       "       [  5.55117190e-01,   4.44882810e-01],\n",
       "       [  7.98290610e-01,   2.01709390e-01],\n",
       "       [  3.33392560e-01,   6.66607440e-01],\n",
       "       [  9.97419357e-01,   2.58064154e-03],\n",
       "       [  9.77997243e-01,   2.20027696e-02],\n",
       "       [  9.96640563e-01,   3.35943326e-03],\n",
       "       [  9.89868999e-01,   1.01310285e-02],\n",
       "       [  8.98316979e-01,   1.01683006e-01],\n",
       "       [  9.24644291e-01,   7.53557235e-02],\n",
       "       [  9.90295053e-01,   9.70495585e-03],\n",
       "       [  4.13994074e-01,   5.86005926e-01],\n",
       "       [  3.02501321e-01,   6.97498679e-01],\n",
       "       [  1.62125826e-01,   8.37874174e-01],\n",
       "       [  1.74203813e-01,   8.25796187e-01],\n",
       "       [  7.39655852e-01,   2.60344148e-01],\n",
       "       [  8.37206841e-04,   9.99162793e-01],\n",
       "       [  1.20748401e-01,   8.79251599e-01],\n",
       "       [  5.23244739e-01,   4.76755261e-01],\n",
       "       [  8.91275287e-01,   1.08724743e-01],\n",
       "       [  9.81379926e-01,   1.86200682e-02],\n",
       "       [  1.50678873e-01,   8.49321127e-01],\n",
       "       [  1.21427119e-01,   8.78572881e-01],\n",
       "       [  5.48805475e-01,   4.51194555e-01],\n",
       "       [  9.92491603e-01,   7.50839198e-03],\n",
       "       [  8.85442376e-01,   1.14557654e-01],\n",
       "       [  5.85979223e-01,   4.14020807e-01],\n",
       "       [  9.26874876e-01,   7.31251389e-02],\n",
       "       [  9.84423935e-01,   1.55760841e-02],\n",
       "       [  7.00109959e-01,   2.99890041e-01],\n",
       "       [  4.42039967e-01,   5.57960033e-01],\n",
       "       [  9.42528248e-02,   9.05747175e-01],\n",
       "       [  9.13555205e-01,   8.64448026e-02],\n",
       "       [  8.18154573e-01,   1.81845397e-01],\n",
       "       [  7.81925261e-01,   2.18074754e-01],\n",
       "       [  9.81526673e-01,   1.84732992e-02],\n",
       "       [  9.25641119e-01,   7.43588880e-02],\n",
       "       [  8.26389968e-01,   1.73610047e-01],\n",
       "       [  2.30461299e-01,   7.69538701e-01],\n",
       "       [  2.67554760e-01,   7.32445240e-01],\n",
       "       [  9.64198887e-01,   3.58011164e-02],\n",
       "       [  8.53538692e-01,   1.46461293e-01],\n",
       "       [  9.46094036e-01,   5.39059862e-02],\n",
       "       [  9.23909187e-01,   7.60908127e-02],\n",
       "       [  5.29579520e-01,   4.70420450e-01],\n",
       "       [  7.85048664e-01,   2.14951321e-01],\n",
       "       [  6.29601359e-01,   3.70398670e-01],\n",
       "       [  9.89599347e-01,   1.04006547e-02],\n",
       "       [  1.42814457e-01,   8.57185543e-01],\n",
       "       [  9.43551600e-01,   5.64483926e-02],\n",
       "       [  2.48868823e-01,   7.51131177e-01],\n",
       "       [  1.80601001e-01,   8.19398999e-01],\n",
       "       [  9.69762504e-01,   3.02374754e-02],\n",
       "       [  1.29363477e-01,   8.70636523e-01],\n",
       "       [  1.65457845e-01,   8.34542155e-01],\n",
       "       [  9.55553651e-01,   4.44463417e-02],\n",
       "       [  1.30771935e-01,   8.69228065e-01],\n",
       "       [  8.52163494e-01,   1.47836506e-01],\n",
       "       [  6.70230150e-01,   3.29769880e-01],\n",
       "       [  3.54352772e-01,   6.45647228e-01]], dtype=float32)"
      ]
     },
     "execution_count": 66,
     "metadata": {},
     "output_type": "execute_result"
    }
   ],
   "source": [
    "# returns all probability estimates\n",
    "probs = model.predict_proba(X_test)\n",
    "probs"
   ]
  },
  {
   "cell_type": "code",
   "execution_count": 67,
   "metadata": {
    "scrolled": true
   },
   "outputs": [
    {
     "data": {
      "text/plain": [
       "array([ 0.01210526,  0.01947368,  0.01973684,  0.0281579 ,  0.01736842,\n",
       "        0.01526316,  0.01      ,  0.02052632,  0.02526316,  0.01736842,\n",
       "        0.01447368,  0.01657895,  0.02184211,  0.01868421,  0.01052632,\n",
       "        0.01447368,  0.01526316,  0.01947368,  0.01210526,  0.01      ,\n",
       "        0.04657895,  0.01394737,  0.02578947,  0.02078947,  0.02868421,\n",
       "        0.01973684,  0.01710526,  0.00921053,  0.01973684,  0.02736842,\n",
       "        0.0168421 ,  0.01342105,  0.01763158,  0.02342105,  0.02236842,\n",
       "        0.01105263,  0.02105263,  0.01289474,  0.0168421 ,  0.01342105,\n",
       "        0.01473684,  0.04394737,  0.01526316,  0.02026316,  0.01552632,\n",
       "        0.01578947,  0.02315789,  0.01973684,  0.01421053,  0.01394737,\n",
       "        0.01631579,  0.00921053,  0.02184211,  0.01947368], dtype=float32)"
      ]
     },
     "execution_count": 67,
     "metadata": {},
     "output_type": "execute_result"
    }
   ],
   "source": [
    "model.feature_importances_"
   ]
  },
  {
   "cell_type": "code",
   "execution_count": 55,
   "metadata": {
    "scrolled": true
   },
   "outputs": [
    {
     "ename": "AttributeError",
     "evalue": "'XGBClassifier' object has no attribute 'estimators_'",
     "output_type": "error",
     "traceback": [
      "\u001b[1;31m---------------------------------------------------------------------------\u001b[0m",
      "\u001b[1;31mAttributeError\u001b[0m                            Traceback (most recent call last)",
      "\u001b[1;32m<ipython-input-55-bfed55018fc1>\u001b[0m in \u001b[0;36m<module>\u001b[1;34m()\u001b[0m\n\u001b[0;32m      1\u001b[0m \u001b[0mimportances\u001b[0m \u001b[1;33m=\u001b[0m \u001b[0mmodel\u001b[0m\u001b[1;33m.\u001b[0m\u001b[0mfeature_importances_\u001b[0m\u001b[1;33m\u001b[0m\u001b[0m\n\u001b[1;32m----> 2\u001b[1;33m std = np.std([tree.feature_importances_ for tree in model.estimators_],\n\u001b[0m\u001b[0;32m      3\u001b[0m              axis=0)\n\u001b[0;32m      4\u001b[0m \u001b[0mindices\u001b[0m \u001b[1;33m=\u001b[0m \u001b[0mnp\u001b[0m\u001b[1;33m.\u001b[0m\u001b[0margsort\u001b[0m\u001b[1;33m(\u001b[0m\u001b[0mimportances\u001b[0m\u001b[1;33m)\u001b[0m\u001b[1;33m[\u001b[0m\u001b[1;33m:\u001b[0m\u001b[1;33m:\u001b[0m\u001b[1;33m-\u001b[0m\u001b[1;36m1\u001b[0m\u001b[1;33m]\u001b[0m\u001b[1;33m\u001b[0m\u001b[0m\n\u001b[0;32m      5\u001b[0m \u001b[1;33m\u001b[0m\u001b[0m\n",
      "\u001b[1;31mAttributeError\u001b[0m: 'XGBClassifier' object has no attribute 'estimators_'"
     ]
    }
   ],
   "source": [
    "importances = model.feature_importances_\n",
    "std = np.std([tree.feature_importances_ for tree in model.estimators_],\n",
    "             axis=0)\n",
    "indices = np.argsort(importances)[::-1]\n",
    "\n",
    "# Print the feature ranking\n",
    "print(\"Feature ranking:\")\n",
    "\n",
    "for f in range(X_train.shape[1]):\n",
    "    print(\"%d. feature %d (%f)\" % (f + 1, indices[f], importances[indices[f]]))\n",
    "\n",
    "# Plot the feature importances of the forest\n",
    "plt.figure()\n",
    "plt.title(\"Feature importances\")\n",
    "plt.bar(range(X_train.shape[1]), importances[indices],\n",
    "       color=\"r\", yerr=std[indices], align=\"center\")\n",
    "plt.xticks(range(X_train.shape[1]), indices)\n",
    "plt.xlim([-1, X_train.shape[1]])\n",
    "plt.show()"
   ]
  },
  {
   "cell_type": "markdown",
   "metadata": {},
   "source": [
    "# Bagging 2"
   ]
  },
  {
   "cell_type": "code",
   "execution_count": 115,
   "metadata": {},
   "outputs": [
    {
     "name": "stderr",
     "output_type": "stream",
     "text": [
      "C:\\Users\\cslun\\Anaconda3\\lib\\site-packages\\ipykernel_launcher.py:1: SettingWithCopyWarning: \n",
      "A value is trying to be set on a copy of a slice from a DataFrame.\n",
      "Try using .loc[row_indexer,col_indexer] = value instead\n",
      "\n",
      "See the caveats in the documentation: http://pandas.pydata.org/pandas-docs/stable/indexing.html#indexing-view-versus-copy\n",
      "  \"\"\"Entry point for launching an IPython kernel.\n",
      "C:\\Users\\cslun\\Anaconda3\\lib\\site-packages\\ipykernel_launcher.py:2: SettingWithCopyWarning: \n",
      "A value is trying to be set on a copy of a slice from a DataFrame.\n",
      "Try using .loc[row_indexer,col_indexer] = value instead\n",
      "\n",
      "See the caveats in the documentation: http://pandas.pydata.org/pandas-docs/stable/indexing.html#indexing-view-versus-copy\n",
      "  \n"
     ]
    }
   ],
   "source": [
    "train['oor'] = train['or'] #needed because 'or' won't work in a formula\n",
    "test['oor'] = test['or']\n",
    "formula = 'result ~ 0 + Result + ast + blk + diff + dr + fga + fgm + fgm3 + fgp + fgp3 + fta + ftm + ftp + oppscore + oor + pf + score + stl + to + tr + elo + Result_opp + ast_opp + blk_opp + diff_opp + dr_opp + fga_opp + fgm_opp + fgm3_opp + fgp_opp + fgp3_opp + fta_opp + ftm_opp + ftp_opp + oppscore_opp + or_opp + pf_opp + score_opp + stl_opp + to_opp + tr_opp + elo_opp + de + efgp + ftr + oe + orpct + topct + de_opp + efgp_opp + ftr_opp + oe_opp + orpct_opp + topct_opp'"
   ]
  },
  {
   "cell_type": "code",
   "execution_count": 116,
   "metadata": {
    "collapsed": true
   },
   "outputs": [],
   "source": [
    "Y_train, X_train = dmatrices(formula, train, return_type='dataframe')\n",
    "y_train = Y_train['result'].values\n",
    "\n",
    "\n",
    "Y_test, X_test = dmatrices(formula, test, return_type='dataframe')\n",
    "y_test = Y_test['result'].values"
   ]
  },
  {
   "cell_type": "code",
   "execution_count": 117,
   "metadata": {
    "collapsed": true
   },
   "outputs": [],
   "source": [
    "model = BaggingClassifier(n_estimators = 30)\n",
    "result = model.fit(X_train, y_train)"
   ]
  },
  {
   "cell_type": "code",
   "execution_count": 118,
   "metadata": {},
   "outputs": [
    {
     "name": "stdout",
     "output_type": "stream",
     "text": [
      "0.999409681228\n"
     ]
    }
   ],
   "source": [
    "prediction_train = model.predict(X_train)\n",
    "print (metrics.accuracy_score(y_train, prediction_train))"
   ]
  },
  {
   "cell_type": "code",
   "execution_count": 119,
   "metadata": {},
   "outputs": [
    {
     "name": "stdout",
     "output_type": "stream",
     "text": [
      "0.664179104478\n"
     ]
    }
   ],
   "source": [
    "prediction = model.predict(X_test)\n",
    "print (metrics.accuracy_score(y_test, prediction))"
   ]
  },
  {
   "cell_type": "code",
   "execution_count": 120,
   "metadata": {},
   "outputs": [
    {
     "data": {
      "text/plain": [
       "array([[ 0.43333333,  0.56666667],\n",
       "       [ 0.33333333,  0.66666667],\n",
       "       [ 0.46666667,  0.53333333],\n",
       "       [ 0.5       ,  0.5       ],\n",
       "       [ 0.86666667,  0.13333333],\n",
       "       [ 0.3       ,  0.7       ],\n",
       "       [ 0.46666667,  0.53333333],\n",
       "       [ 0.46666667,  0.53333333],\n",
       "       [ 0.8       ,  0.2       ],\n",
       "       [ 0.13333333,  0.86666667],\n",
       "       [ 0.6       ,  0.4       ],\n",
       "       [ 0.16666667,  0.83333333],\n",
       "       [ 0.3       ,  0.7       ],\n",
       "       [ 0.13333333,  0.86666667],\n",
       "       [ 0.1       ,  0.9       ],\n",
       "       [ 0.26666667,  0.73333333],\n",
       "       [ 0.36666667,  0.63333333],\n",
       "       [ 0.26666667,  0.73333333],\n",
       "       [ 0.66666667,  0.33333333],\n",
       "       [ 0.73333333,  0.26666667],\n",
       "       [ 0.76666667,  0.23333333],\n",
       "       [ 0.6       ,  0.4       ],\n",
       "       [ 0.36666667,  0.63333333],\n",
       "       [ 0.86666667,  0.13333333],\n",
       "       [ 0.53333333,  0.46666667],\n",
       "       [ 0.53333333,  0.46666667],\n",
       "       [ 0.23333333,  0.76666667],\n",
       "       [ 0.06666667,  0.93333333],\n",
       "       [ 0.73333333,  0.26666667],\n",
       "       [ 0.56666667,  0.43333333],\n",
       "       [ 0.66666667,  0.33333333],\n",
       "       [ 0.2       ,  0.8       ],\n",
       "       [ 0.26666667,  0.73333333],\n",
       "       [ 0.33333333,  0.66666667],\n",
       "       [ 0.4       ,  0.6       ],\n",
       "       [ 0.03333333,  0.96666667],\n",
       "       [ 0.3       ,  0.7       ],\n",
       "       [ 0.7       ,  0.3       ],\n",
       "       [ 0.6       ,  0.4       ],\n",
       "       [ 0.4       ,  0.6       ],\n",
       "       [ 0.26666667,  0.73333333],\n",
       "       [ 0.33333333,  0.66666667],\n",
       "       [ 0.2       ,  0.8       ],\n",
       "       [ 0.26666667,  0.73333333],\n",
       "       [ 0.46666667,  0.53333333],\n",
       "       [ 0.6       ,  0.4       ],\n",
       "       [ 0.46666667,  0.53333333],\n",
       "       [ 0.33333333,  0.66666667],\n",
       "       [ 0.2       ,  0.8       ],\n",
       "       [ 0.3       ,  0.7       ],\n",
       "       [ 0.36666667,  0.63333333],\n",
       "       [ 0.56666667,  0.43333333],\n",
       "       [ 0.23333333,  0.76666667],\n",
       "       [ 0.6       ,  0.4       ],\n",
       "       [ 0.26666667,  0.73333333],\n",
       "       [ 0.56666667,  0.43333333],\n",
       "       [ 0.43333333,  0.56666667],\n",
       "       [ 0.63333333,  0.36666667],\n",
       "       [ 0.56666667,  0.43333333],\n",
       "       [ 0.26666667,  0.73333333],\n",
       "       [ 0.8       ,  0.2       ],\n",
       "       [ 0.33333333,  0.66666667],\n",
       "       [ 0.23333333,  0.76666667],\n",
       "       [ 0.5       ,  0.5       ],\n",
       "       [ 0.13333333,  0.86666667],\n",
       "       [ 0.43333333,  0.56666667],\n",
       "       [ 0.56666667,  0.43333333],\n",
       "       [ 0.63333333,  0.36666667],\n",
       "       [ 0.56666667,  0.43333333],\n",
       "       [ 0.46666667,  0.53333333],\n",
       "       [ 0.43333333,  0.56666667],\n",
       "       [ 0.33333333,  0.66666667],\n",
       "       [ 0.46666667,  0.53333333],\n",
       "       [ 0.53333333,  0.46666667],\n",
       "       [ 0.46666667,  0.53333333],\n",
       "       [ 0.26666667,  0.73333333],\n",
       "       [ 0.86666667,  0.13333333],\n",
       "       [ 0.43333333,  0.56666667],\n",
       "       [ 0.96666667,  0.03333333],\n",
       "       [ 0.8       ,  0.2       ],\n",
       "       [ 0.83333333,  0.16666667],\n",
       "       [ 0.93333333,  0.06666667],\n",
       "       [ 0.86666667,  0.13333333],\n",
       "       [ 0.7       ,  0.3       ],\n",
       "       [ 0.76666667,  0.23333333],\n",
       "       [ 0.6       ,  0.4       ],\n",
       "       [ 0.5       ,  0.5       ],\n",
       "       [ 0.43333333,  0.56666667],\n",
       "       [ 0.46666667,  0.53333333],\n",
       "       [ 0.66666667,  0.33333333],\n",
       "       [ 0.2       ,  0.8       ],\n",
       "       [ 0.5       ,  0.5       ],\n",
       "       [ 0.33333333,  0.66666667],\n",
       "       [ 0.73333333,  0.26666667],\n",
       "       [ 0.9       ,  0.1       ],\n",
       "       [ 0.43333333,  0.56666667],\n",
       "       [ 0.36666667,  0.63333333],\n",
       "       [ 0.53333333,  0.46666667],\n",
       "       [ 0.93333333,  0.06666667],\n",
       "       [ 0.73333333,  0.26666667],\n",
       "       [ 0.76666667,  0.23333333],\n",
       "       [ 0.6       ,  0.4       ],\n",
       "       [ 0.96666667,  0.03333333],\n",
       "       [ 0.7       ,  0.3       ],\n",
       "       [ 0.4       ,  0.6       ],\n",
       "       [ 0.46666667,  0.53333333],\n",
       "       [ 0.5       ,  0.5       ],\n",
       "       [ 0.66666667,  0.33333333],\n",
       "       [ 0.63333333,  0.36666667],\n",
       "       [ 0.86666667,  0.13333333],\n",
       "       [ 0.73333333,  0.26666667],\n",
       "       [ 0.56666667,  0.43333333],\n",
       "       [ 0.46666667,  0.53333333],\n",
       "       [ 0.6       ,  0.4       ],\n",
       "       [ 0.86666667,  0.13333333],\n",
       "       [ 0.6       ,  0.4       ],\n",
       "       [ 0.8       ,  0.2       ],\n",
       "       [ 0.73333333,  0.26666667],\n",
       "       [ 0.3       ,  0.7       ],\n",
       "       [ 0.8       ,  0.2       ],\n",
       "       [ 0.53333333,  0.46666667],\n",
       "       [ 0.83333333,  0.16666667],\n",
       "       [ 0.53333333,  0.46666667],\n",
       "       [ 0.66666667,  0.33333333],\n",
       "       [ 0.4       ,  0.6       ],\n",
       "       [ 0.56666667,  0.43333333],\n",
       "       [ 0.5       ,  0.5       ],\n",
       "       [ 0.23333333,  0.76666667],\n",
       "       [ 0.7       ,  0.3       ],\n",
       "       [ 0.83333333,  0.16666667],\n",
       "       [ 0.33333333,  0.66666667],\n",
       "       [ 0.8       ,  0.2       ],\n",
       "       [ 0.7       ,  0.3       ],\n",
       "       [ 0.53333333,  0.46666667]])"
      ]
     },
     "execution_count": 120,
     "metadata": {},
     "output_type": "execute_result"
    }
   ],
   "source": [
    "# returns all probability estimates\n",
    "probs = model.predict_proba(X_test)\n",
    "probs"
   ]
  },
  {
   "cell_type": "markdown",
   "metadata": {},
   "source": [
    "## Lasso Feature Selection"
   ]
  },
  {
   "cell_type": "code",
   "execution_count": 73,
   "metadata": {
    "scrolled": true
   },
   "outputs": [
    {
     "name": "stderr",
     "output_type": "stream",
     "text": [
      "C:\\Users\\cslun\\Anaconda3\\lib\\site-packages\\ipykernel_launcher.py:1: SettingWithCopyWarning: \n",
      "A value is trying to be set on a copy of a slice from a DataFrame.\n",
      "Try using .loc[row_indexer,col_indexer] = value instead\n",
      "\n",
      "See the caveats in the documentation: http://pandas.pydata.org/pandas-docs/stable/indexing.html#indexing-view-versus-copy\n",
      "  \"\"\"Entry point for launching an IPython kernel.\n",
      "C:\\Users\\cslun\\Anaconda3\\lib\\site-packages\\ipykernel_launcher.py:2: SettingWithCopyWarning: \n",
      "A value is trying to be set on a copy of a slice from a DataFrame.\n",
      "Try using .loc[row_indexer,col_indexer] = value instead\n",
      "\n",
      "See the caveats in the documentation: http://pandas.pydata.org/pandas-docs/stable/indexing.html#indexing-view-versus-copy\n",
      "  \n"
     ]
    }
   ],
   "source": [
    "train['oor'] = train['or'] #needed because 'or' won't work in a formula\n",
    "test['oor'] = test['or']\n",
    "formula = 'gamediff ~ 0 + Result + ast + blk + diff + dr + fga + fgm + fgm3 + fgp + fgp3 + fta + ftm + ftp + oppscore + oor + pf + score + stl + to + tr + elo + Result_opp + ast_opp + blk_opp + diff_opp + dr_opp + fga_opp + fgm_opp + fgm3_opp + fgp_opp + fgp3_opp + fta_opp + ftm_opp + ftp_opp + oppscore_opp + or_opp + pf_opp + score_opp + stl_opp + to_opp + tr_opp + elo_opp + de + efgp + ftr + oe + orpct + topct + de_opp + efgp_opp + ftr_opp + oe_opp + orpct_opp + topct_opp'"
   ]
  },
  {
   "cell_type": "code",
   "execution_count": 74,
   "metadata": {
    "collapsed": true
   },
   "outputs": [],
   "source": [
    "Y_train, X_train = dmatrices(formula, train, return_type='dataframe')\n",
    "y_train = Y_train['gamediff']\n",
    "\n",
    "\n",
    "Y_test, X_test = dmatrices(formula, test, return_type='dataframe')\n",
    "y_test = Y_test['gamediff']"
   ]
  },
  {
   "cell_type": "code",
   "execution_count": 75,
   "metadata": {
    "collapsed": true
   },
   "outputs": [],
   "source": [
    "model = LinearRegression()\n",
    "result = model.fit(X_train, y_train)"
   ]
  },
  {
   "cell_type": "code",
   "execution_count": 76,
   "metadata": {},
   "outputs": [
    {
     "data": {
      "text/plain": [
       "113.29343171605957"
      ]
     },
     "execution_count": 76,
     "metadata": {},
     "output_type": "execute_result"
    }
   ],
   "source": [
    "prediction_train = model.predict(X_train)\n",
    "sk.metrics.mean_squared_error(y_train,prediction_train)"
   ]
  },
  {
   "cell_type": "code",
   "execution_count": 77,
   "metadata": {},
   "outputs": [
    {
     "data": {
      "text/plain": [
       "134.48276171410706"
      ]
     },
     "execution_count": 77,
     "metadata": {},
     "output_type": "execute_result"
    }
   ],
   "source": [
    "prediction = model.predict(X_test)\n",
    "sk.metrics.mean_squared_error(y_test,prediction)"
   ]
  },
  {
   "cell_type": "code",
   "execution_count": null,
   "metadata": {
    "collapsed": true
   },
   "outputs": [],
   "source": []
  }
 ],
 "metadata": {
  "kernelspec": {
   "display_name": "Python 3",
   "language": "python",
   "name": "python3"
  },
  "language_info": {
   "codemirror_mode": {
    "name": "ipython",
    "version": 3
   },
   "file_extension": ".py",
   "mimetype": "text/x-python",
   "name": "python",
   "nbconvert_exporter": "python",
   "pygments_lexer": "ipython3",
   "version": "3.6.1"
  }
 },
 "nbformat": 4,
 "nbformat_minor": 2
}
